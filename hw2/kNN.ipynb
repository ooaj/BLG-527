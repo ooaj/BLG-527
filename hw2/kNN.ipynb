{
 "cells": [
  {
   "cell_type": "code",
   "execution_count": 175,
   "metadata": {},
   "outputs": [],
   "source": [
    "from sklearn.neighbors import NearestNeighbors\n",
    "import numpy as np\n",
    "import pandas as pd\n",
    "from matplotlib import pyplot as plt\n",
    "from sklearn.neighbors import KNeighborsClassifier"
   ]
  },
  {
   "cell_type": "code",
   "execution_count": null,
   "metadata": {},
   "outputs": [],
   "source": [
    "#####Lazim olabilir ileride\n",
    "\n",
    "# pandas data_framde last columna göre sırala\n",
    "##train_data1 = train_data.sort_values(train_data[train_data.columns[-1]])\n",
    "\n",
    "#Sort by last column (for Classes) (Numpy Array)\n",
    "##train_data = train_data[train_data[:,-1].argsort()] \n",
    "##test_data = test_data[test_data[:,-1].argsort()] "
   ]
  },
  {
   "cell_type": "code",
   "execution_count": 176,
   "metadata": {},
   "outputs": [],
   "source": [
    "# import data as pandas data frame\n",
    "train_data = pd.read_csv(\"/home/ooa/Belgeler/Machine Learning/HW2/Data/optdigits.tra\", header=None)\n",
    "test_data = pd.read_csv(\"/home/ooa/Belgeler/Machine Learning/HW2/Data/optdigits.tes\", header=None)\n",
    "\n",
    "# convert pandas data frame to ndarray\n",
    "train_data = train_data.values \n",
    "test_data = test_data.values\n"
   ]
  },
  {
   "cell_type": "code",
   "execution_count": 177,
   "metadata": {
    "scrolled": true
   },
   "outputs": [
    {
     "data": {
      "image/png": "[encoded data removed]",
      "text/plain": [
       "<Figure size 432x288 with 1 Axes>"
      ]
     },
     "metadata": {},
     "output_type": "display_data"
    }
   ],
   "source": [
    "# random test to print the digit 7 from the data for data visualization\n",
    "deneme_7 = train_data[30, :64]\n",
    "deneme_7 = np.reshape(deneme_7, (8,8))\n",
    "plt.imshow(deneme_7, interpolation='Nearest')\n",
    "plt.show()"
   ]
  },
  {
   "cell_type": "code",
   "execution_count": 131,
   "metadata": {},
   "outputs": [
    {
     "name": "stdout",
     "output_type": "stream",
     "text": [
      "Predictions from the classifier:\n",
      "[0 1 1 ... 1 9 8]\n",
      "Target values:\n",
      "[0 1 2 ... 8 9 8]\n"
     ]
    }
   ],
   "source": [
    "# knn = KNeighborsClassifier()\n",
    "# knn.fit(train_data[:,:64], train_data[:,64]) \n",
    "# KNeighborsClassifier(metric='euclidean',n_neighbors=5, weights='uniform')\n",
    "# print(\"Predictions from the classifier:\")\n",
    "# print(knn.predict(test_data[:,:64]))\n",
    "# print(\"Target values:\")\n",
    "# print(test_data[:,64])"
   ]
  },
  {
   "cell_type": "code",
   "execution_count": 132,
   "metadata": {},
   "outputs": [
    {
     "data": {
      "text/plain": [
       "0.9788536449638287"
      ]
     },
     "execution_count": 132,
     "metadata": {},
     "output_type": "execute_result"
    }
   ],
   "source": [
    "#accuracy = knn.score(test_data[:,:64], test_data[:,64])"
   ]
  },
  {
   "cell_type": "code",
   "execution_count": 178,
   "metadata": {},
   "outputs": [],
   "source": [
    "# Euclidean Distance \n",
    "def dist(x,y):   \n",
    "    return np.sqrt(np.sum((x-y)**2))"
   ]
  },
  {
   "cell_type": "code",
   "execution_count": 189,
   "metadata": {},
   "outputs": [],
   "source": [
    "# Neighbours\n",
    "def neighbours(train, test, label, k):\n",
    "    distance_matrix = []\n",
    "    for i in range(len(train)):\n",
    "        distance = dist(test, train[i])\n",
    "        distance_matrix.append((distance, label[i]))\n",
    "    distance_matrix.sort(key=lambda x: x[0])\n",
    "    neighbors = distance_matrix[:k]\n",
    "    return neighbors"
   ]
  },
  {
   "cell_type": "code",
   "execution_count": 277,
   "metadata": {
    "scrolled": false
   },
   "outputs": [],
   "source": [
    "correct = 0\n",
    "for j in range(len(test_data)):\n",
    "    k1 = 1\n",
    "    neighbors = neighbours(train_data, test_data[j], train_data[:,64], k1)\n",
    "    neighborss = np.array(neighbors)\n",
    "    (values,counts) = np.unique(neighborss,return_counts=True)\n",
    "    ind=np.argmax(counts)\n",
    "    final_label = (values[ind])\n",
    "    \n",
    "    if float(test_data[:,64][j]) == final_label:\n",
    "        correct += 1\n",
    "    \n",
    "    #print('loop number =', j,', test data label =', test_data[:,64][j], ', knn, distance + labels =', neighbors, ', label according to knn =', final_label, ', prob = ', prob)"
   ]
  },
  {
   "cell_type": "code",
   "execution_count": 278,
   "metadata": {},
   "outputs": [],
   "source": [
    "accuracy = correct/len(test_data)*100"
   ]
  },
  {
   "cell_type": "code",
   "execution_count": 279,
   "metadata": {},
   "outputs": [
    {
     "name": "stdout",
     "output_type": "stream",
     "text": [
      "98.44184752365052\n"
     ]
    }
   ],
   "source": [
    "print(accuracy)"
   ]
  },
  {
   "cell_type": "code",
   "execution_count": 271,
   "metadata": {},
   "outputs": [
    {
     "name": "stdout",
     "output_type": "stream",
     "text": [
      "4\n"
     ]
    }
   ],
   "source": [
    "print(correct)"
   ]
  },
  {
   "cell_type": "code",
   "execution_count": 267,
   "metadata": {},
   "outputs": [
    {
     "data": {
      "text/plain": [
       "5.0"
      ]
     },
     "execution_count": 267,
     "metadata": {},
     "output_type": "execute_result"
    }
   ],
   "source": [
    "float(test_data[:,64][5])"
   ]
  }
 ],
 "metadata": {
  "kernelspec": {
   "display_name": "Python 3",
   "language": "python",
   "name": "python3"
  },
  "language_info": {
   "codemirror_mode": {
    "name": "ipython",
    "version": 3
   },
   "file_extension": ".py",
   "mimetype": "text/x-python",
   "name": "python",
   "nbconvert_exporter": "python",
   "pygments_lexer": "ipython3",
   "version": "3.6.5"
  }
 },
 "nbformat": 4,
 "nbformat_minor": 2
}
