{
 "cells": [
  {
   "cell_type": "code",
   "execution_count": 1,
   "metadata": {},
   "outputs": [],
   "source": [
    "from sklearn.neighbors import NearestNeighbors\n",
    "import numpy as np\n",
    "import pandas as pd\n",
    "from matplotlib import pyplot as plt\n",
    "from sklearn.neighbors import KNeighborsClassifier\n",
    "from sklearn.cluster import KMeans\n",
    "from copy import deepcopy"
   ]
  },
  {
   "cell_type": "code",
   "execution_count": 2,
   "metadata": {},
   "outputs": [],
   "source": [
    "# import data as pandas data frame\n",
    "train_data = pd.read_csv(\"/home/ooa/Belgeler/Machine Learning/HW2/Data/optdigits.tra\", header=None)\n",
    "test_data = pd.read_csv(\"/home/ooa/Belgeler/Machine Learning/HW2/Data/optdigits.tes\", header=None)\n",
    "\n",
    "# this will be used for label display later on\n",
    "train_data_pd = pd.read_csv(\"/home/ooa/Belgeler/Machine Learning/HW2/Data/optdigits.tra\", header=None)\n",
    "\n",
    "# convert pandas data frame to ndarray\n",
    "train_data = train_data.values \n",
    "test_data = test_data.values\n",
    "\n",
    "# Integer to float, exclude the last column because it is the predetermined labels\n",
    "X = np.asarray(train_data[:,:64], dtype=np.float64)"
   ]
  },
  {
   "cell_type": "code",
   "execution_count": 3,
   "metadata": {},
   "outputs": [],
   "source": [
    "# Euclidean Distance\n",
    "def dist(a, b, ax=1):\n",
    "    return np.linalg.norm(a - b, axis=ax)"
   ]
  },
  {
   "cell_type": "code",
   "execution_count": null,
   "metadata": {},
   "outputs": [],
   "source": [
    "# Weighted Euclidean Distance\n",
    "def weightedDist(a,b,w):\n",
    "    q = a-b\n",
    "    return np.sqrt((w*q*q).sum())\n"
   ]
  },
  {
   "cell_type": "code",
   "execution_count": 4,
   "metadata": {},
   "outputs": [],
   "source": [
    "# Scikit implementation for Comparison\n",
    "kmeans = KMeans(n_clusters=10, random_state=0).fit(X)\n",
    "#kmeans.labels_\n",
    "#kmeans.cluster_centers_"
   ]
  },
  {
   "cell_type": "code",
   "execution_count": 5,
   "metadata": {},
   "outputs": [],
   "source": [
    "'''Random centroid location picker\n",
    "Remove the comment if you dont want to compare with the scikit results, and use your own centroid values\n",
    "'''\n",
    "cent = 10\n",
    "#y = X[np.random.choice(X.shape[0], cent, replace=False)]\n",
    "#print(y)\n",
    "center = kmeans.cluster_centers_"
   ]
  },
  {
   "cell_type": "code",
   "execution_count": 6,
   "metadata": {},
   "outputs": [],
   "source": [
    "initial_center = np.zeros(center.shape)\n",
    "label = np.zeros(len(X))\n",
    "recon_error = dist(center, initial_center , None)\n",
    "# k-Means clustering\n",
    "while recon_error != 0:\n",
    "    \n",
    "    for i in range(len(X)):\n",
    "        distance = dist(X[i], center)\n",
    "        index_label = np.argmin(distance)\n",
    "        label[i] = index_label\n",
    "        \n",
    "    initial_center = deepcopy(center)\n",
    "    \n",
    "    for j in range(len(X)):\n",
    "        new_center = (center[index_label] + X[j])/2\n",
    "        center[index_label] = new_center\n",
    "   \n",
    "    recon_error = dist(center, initial_center , None)"
   ]
  },
  {
   "cell_type": "code",
   "execution_count": null,
   "metadata": {},
   "outputs": [],
   "source": [
    "#predicted_labels = kmmeans(X, kmeans.cluster_centers_, 10)"
   ]
  },
  {
   "cell_type": "code",
   "execution_count": 7,
   "metadata": {},
   "outputs": [
    {
     "name": "stdout",
     "output_type": "stream",
     "text": [
      "[ True  True  True ...  True  True  True]\n"
     ]
    }
   ],
   "source": [
    "# Comparison of our results with Scikit\n",
    "print(kmeans.labels_ == label)"
   ]
  },
  {
   "cell_type": "code",
   "execution_count": null,
   "metadata": {},
   "outputs": [],
   "source": [
    "#print(\"Predicted labels are\", predicted_labels)\n",
    "print(\"Predicted labels are\", label)"
   ]
  },
  {
   "cell_type": "code",
   "execution_count": null,
   "metadata": {},
   "outputs": [],
   "source": [
    "# Changing the last column of the original data with the new clustered labels\n",
    "train_data_pd[64] = predicted_labels.astype(int)\n",
    "\n",
    "print(train_data_pd)"
   ]
  }
 ],
 "metadata": {
  "kernelspec": {
   "display_name": "Python 3",
   "language": "python",
   "name": "python3"
  },
  "language_info": {
   "codemirror_mode": {
    "name": "ipython",
    "version": 3
   },
   "file_extension": ".py",
   "mimetype": "text/x-python",
   "name": "python",
   "nbconvert_exporter": "python",
   "pygments_lexer": "ipython3",
   "version": "3.6.5"
  }
 },
 "nbformat": 4,
 "nbformat_minor": 2
}
