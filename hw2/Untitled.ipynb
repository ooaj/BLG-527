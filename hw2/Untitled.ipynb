{
 "cells": [
  {
   "cell_type": "code",
   "execution_count": 1,
   "metadata": {},
   "outputs": [
    {
     "name": "stdout",
     "output_type": "stream",
     "text": [
      "[5.1 3.5 1.4 0.2] [5.7 2.6 3.5 1. ] [6.3 3.3 6.  2.5]\n",
      "0 1 2\n"
     ]
    }
   ],
   "source": [
    "import numpy as np\n",
    "from sklearn import datasets\n",
    "iris = datasets.load_iris()\n",
    "iris_data = iris.data\n",
    "iris_labels = iris.target\n",
    "print(iris_data[0], iris_data[79], iris_data[100])\n",
    "print(iris_labels[0], iris_labels[79], iris_labels[100])"
   ]
  },
  {
   "cell_type": "code",
   "execution_count": 3,
   "metadata": {},
   "outputs": [
    {
     "name": "stdout",
     "output_type": "stream",
     "text": [
      "[[6.1 2.8 4.7 1.2]\n",
      " [5.7 3.8 1.7 0.3]\n",
      " [7.7 2.6 6.9 2.3]\n",
      " [6.  2.9 4.5 1.5]] [1 0 2 1]\n",
      "[[5.7 2.8 4.1 1.3]\n",
      " [6.5 3.  5.5 1.8]\n",
      " [6.3 2.3 4.4 1.3]\n",
      " [6.4 2.9 4.3 1.3]] [1 2 1 1]\n"
     ]
    }
   ],
   "source": [
    "np.random.seed(42)\n",
    "indices = np.random.permutation(len(iris_data))\n",
    "n_training_samples = 12\n",
    "learnset_data = iris_data[indices[:-n_training_samples]]\n",
    "learnset_labels = iris_labels[indices[:-n_training_samples]]\n",
    "testset_data = iris_data[indices[-n_training_samples:]]\n",
    "testset_labels = iris_labels[indices[-n_training_samples:]]\n",
    "print(learnset_data[:4], learnset_labels[:4])\n",
    "print(testset_data[:4], testset_labels[:4])"
   ]
  },
  {
   "cell_type": "code",
   "execution_count": 4,
   "metadata": {},
   "outputs": [
    {
     "name": "stdout",
     "output_type": "stream",
     "text": [
      "4.47213595499958\n",
      "3.4190641994557516\n"
     ]
    }
   ],
   "source": [
    "def distance(instance1, instance2):\n",
    "    # just in case, if the instances are lists or tuples:\n",
    "    instance1 = np.array(instance1) \n",
    "    instance2 = np.array(instance2)\n",
    "    \n",
    "    return np.linalg.norm(instance1 - instance2)\n",
    "print(distance([3, 5], [1, 1]))\n",
    "print(distance(learnset_data[3], learnset_data[44]))"
   ]
  },
  {
   "cell_type": "code",
   "execution_count": 5,
   "metadata": {},
   "outputs": [],
   "source": [
    "def get_neighbors(training_set, \n",
    "                  labels, \n",
    "                  test_instance, \n",
    "                  k, \n",
    "                  distance=distance):\n",
    "    \"\"\"\n",
    "    get_neighors calculates a list of the k nearest neighbors\n",
    "    of an instance 'test_instance'.\n",
    "    The list neighbors contains 3-tuples with  \n",
    "    (index, dist, label)\n",
    "    where \n",
    "    index    is the index from the training_set, \n",
    "    dist     is the distance between the test_instance and the \n",
    "             instance training_set[index]\n",
    "    distance is a reference to a function used to calculate the \n",
    "             distances\n",
    "    \"\"\"\n",
    "    distances = []\n",
    "    for index in range(len(training_set)):\n",
    "        dist = distance(test_instance, training_set[index])\n",
    "        distances.append((training_set[index], dist, labels[index]))\n",
    "    distances.sort(key=lambda x: x[1])\n",
    "    neighbors = distances[:k]\n",
    "    return neighbors"
   ]
  },
  {
   "cell_type": "code",
   "execution_count": 6,
   "metadata": {},
   "outputs": [],
   "source": [
    "from collections import Counter\n",
    "def vote(neighbors):\n",
    "    class_counter = Counter()\n",
    "    for neighbor in neighbors:\n",
    "        class_counter[neighbor[2]] += 1\n",
    "    return class_counter.most_common(1)[0][0]"
   ]
  },
  {
   "cell_type": "code",
   "execution_count": 7,
   "metadata": {},
   "outputs": [
    {
     "name": "stdout",
     "output_type": "stream",
     "text": [
      "index:  0 , result of vote:  1 , label:  1 , data:  [5.7 2.8 4.1 1.3]\n",
      "index:  1 , result of vote:  2 , label:  2 , data:  [6.5 3.  5.5 1.8]\n",
      "index:  2 , result of vote:  1 , label:  1 , data:  [6.3 2.3 4.4 1.3]\n",
      "index:  3 , result of vote:  1 , label:  1 , data:  [6.4 2.9 4.3 1.3]\n",
      "index:  4 , result of vote:  2 , label:  2 , data:  [5.6 2.8 4.9 2. ]\n",
      "index:  5 , result of vote:  2 , label:  2 , data:  [5.9 3.  5.1 1.8]\n",
      "index:  6 , result of vote:  0 , label:  0 , data:  [5.4 3.4 1.7 0.2]\n",
      "index:  7 , result of vote:  1 , label:  1 , data:  [6.1 2.8 4.  1.3]\n",
      "index:  8 , result of vote:  1 , label:  2 , data:  [4.9 2.5 4.5 1.7]\n",
      "index:  9 , result of vote:  0 , label:  0 , data:  [5.8 4.  1.2 0.2]\n",
      "index:  10 , result of vote:  1 , label:  1 , data:  [5.8 2.6 4.  1.2]\n",
      "index:  11 , result of vote:  2 , label:  2 , data:  [7.1 3.  5.9 2.1]\n"
     ]
    }
   ],
   "source": [
    "for i in range(n_training_samples):\n",
    "    neighbors = get_neighbors(learnset_data, \n",
    "                              learnset_labels, \n",
    "                              testset_data[i], \n",
    "                              3, \n",
    "                              distance=distance)\n",
    "    print(\"index: \", i, \n",
    "          \", result of vote: \", vote(neighbors), \n",
    "          \", label: \", testset_labels[i], \n",
    "          \", data: \", testset_data[i])"
   ]
  },
  {
   "cell_type": "code",
   "execution_count": 8,
   "metadata": {},
   "outputs": [],
   "source": [
    "def vote_prob(neighbors):\n",
    "    class_counter = Counter()\n",
    "    for neighbor in neighbors:\n",
    "        class_counter[neighbor[2]] += 1\n",
    "    labels, votes = zip(*class_counter.most_common())\n",
    "    winner = class_counter.most_common(1)[0][0]\n",
    "    votes4winner = class_counter.most_common(1)[0][1]\n",
    "    return winner, votes4winner/sum(votes)"
   ]
  },
  {
   "cell_type": "code",
   "execution_count": 9,
   "metadata": {},
   "outputs": [
    {
     "name": "stdout",
     "output_type": "stream",
     "text": [
      "index:  0 , vote_prob:  (1, 1.0) , label:  1 , data:  [5.7 2.8 4.1 1.3]\n",
      "index:  1 , vote_prob:  (2, 1.0) , label:  2 , data:  [6.5 3.  5.5 1.8]\n",
      "index:  2 , vote_prob:  (1, 1.0) , label:  1 , data:  [6.3 2.3 4.4 1.3]\n",
      "index:  3 , vote_prob:  (1, 1.0) , label:  1 , data:  [6.4 2.9 4.3 1.3]\n",
      "index:  4 , vote_prob:  (2, 1.0) , label:  2 , data:  [5.6 2.8 4.9 2. ]\n",
      "index:  5 , vote_prob:  (2, 0.8) , label:  2 , data:  [5.9 3.  5.1 1.8]\n",
      "index:  6 , vote_prob:  (0, 1.0) , label:  0 , data:  [5.4 3.4 1.7 0.2]\n",
      "index:  7 , vote_prob:  (1, 1.0) , label:  1 , data:  [6.1 2.8 4.  1.3]\n",
      "index:  8 , vote_prob:  (1, 1.0) , label:  2 , data:  [4.9 2.5 4.5 1.7]\n",
      "index:  9 , vote_prob:  (0, 1.0) , label:  0 , data:  [5.8 4.  1.2 0.2]\n",
      "index:  10 , vote_prob:  (1, 1.0) , label:  1 , data:  [5.8 2.6 4.  1.2]\n",
      "index:  11 , vote_prob:  (2, 1.0) , label:  2 , data:  [7.1 3.  5.9 2.1]\n"
     ]
    }
   ],
   "source": [
    "for i in range(n_training_samples):\n",
    "    neighbors = get_neighbors(learnset_data, \n",
    "                              learnset_labels, \n",
    "                              testset_data[i], \n",
    "                              5, \n",
    "                              distance=distance)\n",
    "    print(\"index: \", i, \n",
    "          \", vote_prob: \", vote_prob(neighbors), \n",
    "          \", label: \", testset_labels[i], \n",
    "          \", data: \", testset_data[i])"
   ]
  },
  {
   "cell_type": "code",
   "execution_count": null,
   "metadata": {},
   "outputs": [],
   "source": []
  }
 ],
 "metadata": {
  "kernelspec": {
   "display_name": "Python 3",
   "language": "python",
   "name": "python3"
  },
  "language_info": {
   "codemirror_mode": {
    "name": "ipython",
    "version": 3
   },
   "file_extension": ".py",
   "mimetype": "text/x-python",
   "name": "python",
   "nbconvert_exporter": "python",
   "pygments_lexer": "ipython3",
   "version": "3.6.5"
  }
 },
 "nbformat": 4,
 "nbformat_minor": 2
}
