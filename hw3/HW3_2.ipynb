{
 "cells": [
  {
   "cell_type": "code",
   "execution_count": 29,
   "metadata": {},
   "outputs": [],
   "source": [
    "import pandas as pd\n",
    "import numpy as np\n",
    "from matplotlib import pyplot as plt\n",
    "from sklearn.model_selection import train_test_split\n",
    "import keras\n",
    "from keras import layers\n",
    "from keras import models\n",
    "from keras import optimizers\n",
    "from keras.utils import to_categorical\n",
    "from keras.wrappers.scikit_learn import KerasClassifier\n",
    "from sklearn.model_selection import GridSearchCV\n",
    "from sklearn.metrics import accuracy_score"
   ]
  },
  {
   "cell_type": "code",
   "execution_count": 2,
   "metadata": {},
   "outputs": [],
   "source": [
    "# import data as pandas data frame, change according to your path\n",
    "train_data = pd.read_csv(\"/home/ooa/Belgeler/git/BLG-527/hw3/Data/optdigits.tra\", header=None)\n",
    "test_data = pd.read_csv(\"/home/ooa/Belgeler/git/BLG-527/hw3/Data/optdigits.tes\", header=None)"
   ]
  },
  {
   "cell_type": "code",
   "execution_count": 3,
   "metadata": {},
   "outputs": [],
   "source": [
    "train_data = train_data.values\n",
    "test_data = test_data.values\n",
    "\n",
    "y_train = train_data[:,64]\n",
    "y_test = test_data[:,64]\n",
    "\n",
    "X_train = train_data[:,:64]\n",
    "X_test = test_data[:,:64]\n",
    "\n",
    "#X_train, X_val, y_train, y_val = train_test_split(X_train, y_train, test_size=0.2, random_state=1)\n",
    "\n",
    "X_train = X_train.reshape((3823, 8, 8))\n",
    "X_train = X_train.reshape((3823, 8, 8, 1))\n",
    "X_train = X_train.astype('float32') / 16\n",
    "\n",
    "X_test = X_test.reshape((1797, 8, 8))\n",
    "X_test = X_test.reshape((1797, 8, 8, 1))\n",
    "X_test = X_test.astype('float32') / 16\n",
    "\n",
    "'''X_val = X_val.reshape((765, 8, 8))\n",
    "X_val = X_val.reshape((765, 8, 8, 1))\n",
    "X_val = X_val.astype('float32') / 16\n",
    "'''\n",
    "\n",
    "y_train = to_categorical(y_train)\n",
    "y_test = to_categorical(y_test)\n",
    "#y_val= to_categorical(y_val)"
   ]
  },
  {
   "cell_type": "code",
   "execution_count": 4,
   "metadata": {},
   "outputs": [],
   "source": [
    "def dnn(optimizer='rmsprop'):\n",
    "    model = models.Sequential()\n",
    "    model.add(layers.Conv2D(32, (3, 3), activation='relu',\n",
    "                        input_shape=(8, 8, 1)))\n",
    "    model.add(layers.MaxPooling2D((2, 2)))\n",
    "    model.add(layers.Conv2D(64, (3, 3), activation='relu'))\n",
    "    #model.add(layers.MaxPooling2D((2, 2)))\n",
    "    model.add(layers.Flatten())\n",
    "    model.add(layers.Dense(512, activation='relu'))\n",
    "    model.add(layers.Dense(10, activation='softmax'))\n",
    "    model.compile(optimizer=optimizer,loss='categorical_crossentropy',\n",
    "                    metrics=['accuracy'])\n",
    "    return model\n",
    "\n",
    "model = KerasClassifier(build_fn = dnn, verbose=0)"
   ]
  },
  {
   "cell_type": "code",
   "execution_count": 7,
   "metadata": {},
   "outputs": [],
   "source": [
    "batch_size = [32, 64, 128]\n",
    "epochs = [5, 10, 20]\n",
    "optimizers = ['rmsprop', 'adam', 'Adagrad']\n",
    "param_grid = dict(optimizer=optimizers, batch_size=batch_size, epochs=epochs)"
   ]
  },
  {
   "cell_type": "code",
   "execution_count": 9,
   "metadata": {
    "scrolled": false
   },
   "outputs": [],
   "source": [
    "grid = GridSearchCV(estimator=model, param_grid=param_grid)\n",
    "grid_result = grid.fit(X_train, y_train)"
   ]
  },
  {
   "cell_type": "code",
   "execution_count": 45,
   "metadata": {},
   "outputs": [
    {
     "data": {
      "text/plain": [
       "20"
      ]
     },
     "execution_count": 45,
     "metadata": {},
     "output_type": "execute_result"
    }
   ],
   "source": [
    "grid_result.best_params_['epochs']"
   ]
  },
  {
   "cell_type": "code",
   "execution_count": 12,
   "metadata": {},
   "outputs": [
    {
     "name": "stdout",
     "output_type": "stream",
     "text": [
      "0.9641642688987706 {'batch_size': 32, 'epochs': 5, 'optimizer': 'rmsprop'}\n",
      "0.9605022233847763 {'batch_size': 32, 'epochs': 5, 'optimizer': 'adam'}\n",
      "0.9657337169450145 {'batch_size': 32, 'epochs': 5, 'optimizer': 'Adagrad'}\n",
      "0.9725346586450432 {'batch_size': 32, 'epochs': 10, 'optimizer': 'rmsprop'}\n",
      "0.9722730841213828 {'batch_size': 32, 'epochs': 10, 'optimizer': 'adam'}\n",
      "0.9649489927192088 {'batch_size': 32, 'epochs': 10, 'optimizer': 'Adagrad'}\n",
      "0.9620716716181131 {'batch_size': 32, 'epochs': 20, 'optimizer': 'rmsprop'}\n",
      "0.9801203241655099 {'batch_size': 32, 'epochs': 20, 'optimizer': 'adam'}\n",
      "0.9743656812149475 {'batch_size': 32, 'epochs': 20, 'optimizer': 'Adagrad'}\n",
      "0.9325137323588562 {'batch_size': 64, 'epochs': 5, 'optimizer': 'rmsprop'}\n",
      "0.9552707297621739 {'batch_size': 64, 'epochs': 5, 'optimizer': 'adam'}\n",
      "0.9565786037057162 {'batch_size': 64, 'epochs': 5, 'optimizer': 'Adagrad'}\n",
      "0.9466387653986945 {'batch_size': 64, 'epochs': 10, 'optimizer': 'rmsprop'}\n",
      "0.9678263143504006 {'batch_size': 64, 'epochs': 10, 'optimizer': 'adam'}\n",
      "0.9720115093170832 {'batch_size': 64, 'epochs': 10, 'optimizer': 'Adagrad'}\n",
      "0.9743656812929028 {'batch_size': 64, 'epochs': 20, 'optimizer': 'rmsprop'}\n",
      "0.9756735547687132 {'batch_size': 64, 'epochs': 20, 'optimizer': 'adam'}\n",
      "0.9751504053316159 {'batch_size': 64, 'epochs': 20, 'optimizer': 'Adagrad'}\n",
      "0.9196965744474812 {'batch_size': 128, 'epochs': 5, 'optimizer': 'rmsprop'}\n",
      "0.9393146736067438 {'batch_size': 128, 'epochs': 5, 'optimizer': 'adam'}\n",
      "0.95030081049173 {'batch_size': 128, 'epochs': 5, 'optimizer': 'Adagrad'}\n",
      "0.9529165596416912 {'batch_size': 128, 'epochs': 10, 'optimizer': 'rmsprop'}\n",
      "0.9680878895600679 {'batch_size': 128, 'epochs': 10, 'optimizer': 'adam'}\n",
      "0.9657337176933858 {'batch_size': 128, 'epochs': 10, 'optimizer': 'Adagrad'}\n",
      "0.9712267866192019 {'batch_size': 128, 'epochs': 20, 'optimizer': 'rmsprop'}\n",
      "0.9712267858708307 {'batch_size': 128, 'epochs': 20, 'optimizer': 'adam'}\n",
      "0.970442062393396 {'batch_size': 128, 'epochs': 20, 'optimizer': 'Adagrad'}\n"
     ]
    }
   ],
   "source": [
    "cvres = grid_result.cv_results_\n",
    "for mean_score, params in zip(cvres[\"mean_test_score\"], cvres[\"params\"]):\n",
    "    print(mean_score, params)"
   ]
  },
  {
   "cell_type": "code",
   "execution_count": 16,
   "metadata": {},
   "outputs": [],
   "source": [
    "model2 = models.Sequential()\n",
    "model2.add(layers.Conv2D(32, (3, 3), activation='relu',\n",
    "                        input_shape=(8, 8, 1)))\n",
    "model2.add(layers.MaxPooling2D((2, 2)))\n",
    "model2.add(layers.Conv2D(64, (3, 3), activation='relu'))\n",
    "#model.add(layers.MaxPooling2D((2, 2)))\n",
    "model2.add(layers.Flatten())\n",
    "model2.add(layers.Dense(512, activation='relu'))\n",
    "model2.add(layers.Dense(10, activation='softmax'))\n",
    "model2.compile(optimizer=grid_result.best_params_['optimizer'],loss='categorical_crossentropy',\n",
    "                metrics=['accuracy'])"
   ]
  },
  {
   "cell_type": "code",
   "execution_count": 19,
   "metadata": {},
   "outputs": [
    {
     "name": "stdout",
     "output_type": "stream",
     "text": [
      "_________________________________________________________________\n",
      "Layer (type)                 Output Shape              Param #   \n",
      "=================================================================\n",
      "conv2d_171 (Conv2D)          (None, 6, 6, 32)          320       \n",
      "_________________________________________________________________\n",
      "max_pooling2d_86 (MaxPooling (None, 3, 3, 32)          0         \n",
      "_________________________________________________________________\n",
      "conv2d_172 (Conv2D)          (None, 1, 1, 64)          18496     \n",
      "_________________________________________________________________\n",
      "flatten_86 (Flatten)         (None, 64)                0         \n",
      "_________________________________________________________________\n",
      "dense_171 (Dense)            (None, 512)               33280     \n",
      "_________________________________________________________________\n",
      "dense_172 (Dense)            (None, 10)                5130      \n",
      "=================================================================\n",
      "Total params: 57,226\n",
      "Trainable params: 57,226\n",
      "Non-trainable params: 0\n",
      "_________________________________________________________________\n"
     ]
    }
   ],
   "source": [
    "model2.summary()"
   ]
  },
  {
   "cell_type": "code",
   "execution_count": 22,
   "metadata": {},
   "outputs": [
    {
     "name": "stdout",
     "output_type": "stream",
     "text": [
      "Train on 3058 samples, validate on 765 samples\n",
      "Epoch 1/20\n",
      "3058/3058 [==============================] - 3s 823us/step - loss: 1.2087 - acc: 0.6763 - val_loss: 0.3115 - val_acc: 0.8993\n",
      "Epoch 2/20\n",
      "3058/3058 [==============================] - 0s 154us/step - loss: 0.2315 - acc: 0.9402 - val_loss: 0.1809 - val_acc: 0.9490\n",
      "Epoch 3/20\n",
      "3058/3058 [==============================] - 0s 153us/step - loss: 0.1457 - acc: 0.9595 - val_loss: 0.1752 - val_acc: 0.9503\n",
      "Epoch 4/20\n",
      "3058/3058 [==============================] - 0s 152us/step - loss: 0.1262 - acc: 0.9621 - val_loss: 0.1301 - val_acc: 0.9660\n",
      "Epoch 5/20\n",
      "3058/3058 [==============================] - 0s 158us/step - loss: 0.0987 - acc: 0.9745 - val_loss: 0.0956 - val_acc: 0.9778\n",
      "Epoch 6/20\n",
      "3058/3058 [==============================] - 0s 157us/step - loss: 0.0863 - acc: 0.9771 - val_loss: 0.1343 - val_acc: 0.9647\n",
      "Epoch 7/20\n",
      "3058/3058 [==============================] - 0s 161us/step - loss: 0.0688 - acc: 0.9810 - val_loss: 0.0840 - val_acc: 0.9817\n",
      "Epoch 8/20\n",
      "3058/3058 [==============================] - 0s 151us/step - loss: 0.0649 - acc: 0.9807 - val_loss: 0.0917 - val_acc: 0.9739\n",
      "Epoch 9/20\n",
      "3058/3058 [==============================] - 0s 156us/step - loss: 0.0611 - acc: 0.9817 - val_loss: 0.0822 - val_acc: 0.9752\n",
      "Epoch 10/20\n",
      "3058/3058 [==============================] - 0s 158us/step - loss: 0.0443 - acc: 0.9872 - val_loss: 0.0677 - val_acc: 0.9843\n",
      "Epoch 11/20\n",
      "3058/3058 [==============================] - 1s 166us/step - loss: 0.0401 - acc: 0.9889 - val_loss: 0.1933 - val_acc: 0.9490\n",
      "Epoch 12/20\n",
      "3058/3058 [==============================] - 1s 182us/step - loss: 0.0418 - acc: 0.9863 - val_loss: 0.0695 - val_acc: 0.9817\n",
      "Epoch 13/20\n",
      "3058/3058 [==============================] - 0s 160us/step - loss: 0.0306 - acc: 0.9915 - val_loss: 0.0923 - val_acc: 0.9791\n",
      "Epoch 14/20\n",
      "3058/3058 [==============================] - 0s 159us/step - loss: 0.0265 - acc: 0.9918 - val_loss: 0.0892 - val_acc: 0.9791\n",
      "Epoch 15/20\n",
      "3058/3058 [==============================] - 0s 163us/step - loss: 0.0389 - acc: 0.9859 - val_loss: 0.0586 - val_acc: 0.9882\n",
      "Epoch 16/20\n",
      "3058/3058 [==============================] - 0s 163us/step - loss: 0.0252 - acc: 0.9908 - val_loss: 0.0604 - val_acc: 0.9895\n",
      "Epoch 17/20\n",
      "3058/3058 [==============================] - 0s 163us/step - loss: 0.0274 - acc: 0.9899 - val_loss: 0.0521 - val_acc: 0.9882\n",
      "Epoch 18/20\n",
      "3058/3058 [==============================] - 0s 161us/step - loss: 0.0162 - acc: 0.9951 - val_loss: 0.0613 - val_acc: 0.9895\n",
      "Epoch 19/20\n",
      "3058/3058 [==============================] - 1s 164us/step - loss: 0.0104 - acc: 0.9984 - val_loss: 0.0523 - val_acc: 0.9869\n",
      "Epoch 20/20\n",
      "3058/3058 [==============================] - 1s 201us/step - loss: 0.0108 - acc: 0.9974 - val_loss: 0.0518 - val_acc: 0.9856\n"
     ]
    }
   ],
   "source": [
    "history2 = model2.fit(X_train, y_train, validation_split=0.2, epochs=grid_result.best_params_['epochs'],\n",
    "                      batch_size=grid_result.best_params_['batch_size'])"
   ]
  },
  {
   "cell_type": "code",
   "execution_count": 25,
   "metadata": {},
   "outputs": [
    {
     "data": {
      "image/png": "[encoded data removed]",
      "text/plain": [
       "<Figure size 432x288 with 1 Axes>"
      ]
     },
     "metadata": {},
     "output_type": "display_data"
    },
    {
     "data": {
      "image/png": "[encoded data removed]",
      "text/plain": [
       "<Figure size 432x288 with 1 Axes>"
      ]
     },
     "metadata": {},
     "output_type": "display_data"
    }
   ],
   "source": [
    "acc = history2.history['acc']\n",
    "val_acc = history2.history['val_acc']\n",
    "loss = history2.history['loss']\n",
    "val_loss = history2.history['val_loss']\n",
    "epochs = range(1, len(acc) + 1)\n",
    "plt.plot(epochs, acc, 'bo', label='Training acc')\n",
    "plt.plot(epochs, val_acc, 'b', label='Validation acc')\n",
    "plt.title('Training and validation accuracy')\n",
    "plt.legend()\n",
    "plt.figure()\n",
    "plt.plot(epochs, loss, 'bo', label='Training loss')\n",
    "plt.plot(epochs, val_loss, 'b', label='Validation loss')\n",
    "plt.title('Training and validation loss')\n",
    "plt.legend()\n",
    "plt.show()"
   ]
  },
  {
   "cell_type": "code",
   "execution_count": 34,
   "metadata": {},
   "outputs": [],
   "source": [
    "y_pred_test_2 = model2.predict_classes(X_test)\n",
    "y_pred_train_2 = model2.predict_classes(X_train)"
   ]
  },
  {
   "cell_type": "code",
   "execution_count": 42,
   "metadata": {},
   "outputs": [
    {
     "name": "stdout",
     "output_type": "stream",
     "text": [
      "1797/1797 [==============================] - 0s 74us/step\n",
      "Test accuracy is  0.9721758486366165\n"
     ]
    }
   ],
   "source": [
    "test_loss, test_acc = model2.evaluate(X_test, y_test)\n",
    "print(\"Test accuracy is \", test_acc)"
   ]
  }
 ],
 "metadata": {
  "kernelspec": {
   "display_name": "Python 3",
   "language": "python",
   "name": "python3"
  },
  "language_info": {
   "codemirror_mode": {
    "name": "ipython",
    "version": 3
   },
   "file_extension": ".py",
   "mimetype": "text/x-python",
   "name": "python",
   "nbconvert_exporter": "python",
   "pygments_lexer": "ipython3",
   "version": "3.6.5"
  }
 },
 "nbformat": 4,
 "nbformat_minor": 2
}
