{
 "cells": [
  {
   "cell_type": "code",
   "execution_count": 1,
   "metadata": {},
   "outputs": [
    {
     "name": "stderr",
     "output_type": "stream",
     "text": [
      "Using TensorFlow backend.\n",
      "/usr/lib/python3.6/importlib/_bootstrap.py:219: RuntimeWarning: compiletime version 3.5 of module 'tensorflow.python.framework.fast_tensor_util' does not match runtime version 3.6\n",
      "  return f(*args, **kwds)\n"
     ]
    }
   ],
   "source": [
    "import pandas as pd\n",
    "import numpy as np\n",
    "from matplotlib import pyplot as plt\n",
    "from sklearn.model_selection import train_test_split\n",
    "import keras\n",
    "from keras import layers\n",
    "from keras import models\n",
    "from keras import optimizers\n",
    "from keras.utils import to_categorical\n",
    "from keras.wrappers.scikit_learn import KerasClassifier\n",
    "from sklearn.model_selection import GridSearchCV\n",
    "from sklearn.metrics import accuracy_score\n",
    "import time"
   ]
  },
  {
   "cell_type": "code",
   "execution_count": 2,
   "metadata": {},
   "outputs": [],
   "source": [
    "# import data as pandas data frame, change according to your path\n",
    "start = time.time()\n",
    "train_data = pd.read_csv(\"/home/ooa/Belgeler/git/BLG-527/hw3/Data/optdigits.tra\", header=None)\n",
    "test_data = pd.read_csv(\"/home/ooa/Belgeler/git/BLG-527/hw3/Data/optdigits.tes\", header=None)"
   ]
  },
  {
   "cell_type": "code",
   "execution_count": 3,
   "metadata": {},
   "outputs": [],
   "source": [
    "train_data = train_data.values\n",
    "test_data = test_data.values\n",
    "\n",
    "y_train = train_data[:,64]\n",
    "y_test = test_data[:,64]\n",
    "\n",
    "X_train = train_data[:,:64]\n",
    "X_test = test_data[:,:64]\n",
    "\n",
    "#X_train, X_val, y_train, y_val = train_test_split(X_train, y_train, test_size=0.2, random_state=1)\n",
    "\n",
    "X_train = X_train.reshape((3823, 8, 8))\n",
    "X_train = X_train.reshape((3823, 8, 8, 1))\n",
    "X_train = X_train.astype('float32') / 16\n",
    "\n",
    "X_test = X_test.reshape((1797, 8, 8))\n",
    "X_test = X_test.reshape((1797, 8, 8, 1))\n",
    "X_test = X_test.astype('float32') / 16\n",
    "\n",
    "'''X_val = X_val.reshape((765, 8, 8))\n",
    "X_val = X_val.reshape((765, 8, 8, 1))\n",
    "X_val = X_val.astype('float32') / 16\n",
    "'''\n",
    "\n",
    "y_train = to_categorical(y_train)\n",
    "y_test = to_categorical(y_test)\n",
    "#y_val= to_categorical(y_val)"
   ]
  },
  {
   "cell_type": "code",
   "execution_count": 4,
   "metadata": {},
   "outputs": [],
   "source": [
    "def dnn(optimizer='rmsprop'):\n",
    "    model = models.Sequential()\n",
    "    model.add(layers.Conv2D(32, (3, 3), activation='relu',\n",
    "                        input_shape=(8, 8, 1)))\n",
    "    model.add(layers.MaxPooling2D((2, 2)))\n",
    "    model.add(layers.Conv2D(64, (3, 3), activation='relu'))\n",
    "    #model.add(layers.MaxPooling2D((2, 2)))\n",
    "    model.add(layers.Flatten())\n",
    "    model.add(layers.Dense(512, activation='relu'))\n",
    "    model.add(layers.Dense(10, activation='softmax'))\n",
    "    model.compile(optimizer=optimizer,loss='categorical_crossentropy',\n",
    "                    metrics=['accuracy'])\n",
    "    return model\n",
    "\n",
    "model = KerasClassifier(build_fn = dnn, verbose=0)"
   ]
  },
  {
   "cell_type": "code",
   "execution_count": 5,
   "metadata": {},
   "outputs": [],
   "source": [
    "batch_size = [32, 64, 128]\n",
    "epochs = [5, 10, 20]\n",
    "optimizers = ['rmsprop', 'adam', 'Adagrad']\n",
    "param_grid = dict(optimizer=optimizers, batch_size=batch_size, epochs=epochs)"
   ]
  },
  {
   "cell_type": "code",
   "execution_count": 6,
   "metadata": {
    "scrolled": false
   },
   "outputs": [],
   "source": [
    "grid = GridSearchCV(estimator=model, param_grid=param_grid)\n",
    "grid_result = grid.fit(X_train, y_train)"
   ]
  },
  {
   "cell_type": "code",
   "execution_count": 16,
   "metadata": {},
   "outputs": [
    {
     "data": {
      "text/plain": [
       "{'batch_size': 32, 'epochs': 20, 'optimizer': 'rmsprop'}"
      ]
     },
     "execution_count": 16,
     "metadata": {},
     "output_type": "execute_result"
    }
   ],
   "source": [
    "grid_result.best_params_"
   ]
  },
  {
   "cell_type": "code",
   "execution_count": 8,
   "metadata": {},
   "outputs": [
    {
     "name": "stdout",
     "output_type": "stream",
     "text": [
      "0.938791525011564 {'batch_size': 32, 'epochs': 5, 'optimizer': 'rmsprop'}\n",
      "0.9628563953138227 {'batch_size': 32, 'epochs': 5, 'optimizer': 'adam'}\n",
      "0.9628563953138227 {'batch_size': 32, 'epochs': 5, 'optimizer': 'Adagrad'}\n",
      "0.9618100962993084 {'batch_size': 32, 'epochs': 10, 'optimizer': 'rmsprop'}\n",
      "0.9712267852783703 {'batch_size': 32, 'epochs': 10, 'optimizer': 'adam'}\n",
      "0.9686110384514779 {'batch_size': 32, 'epochs': 10, 'optimizer': 'Adagrad'}\n",
      "0.9801203243526027 {'batch_size': 32, 'epochs': 20, 'optimizer': 'rmsprop'}\n",
      "0.9788124507676548 {'batch_size': 32, 'epochs': 20, 'optimizer': 'adam'}\n",
      "0.9761967041590374 {'batch_size': 32, 'epochs': 20, 'optimizer': 'Adagrad'}\n",
      "0.9442845930798716 {'batch_size': 64, 'epochs': 5, 'optimizer': 'rmsprop'}\n",
      "0.9565786035342145 {'batch_size': 64, 'epochs': 5, 'optimizer': 'adam'}\n",
      "0.959455924105214 {'batch_size': 64, 'epochs': 5, 'optimizer': 'Adagrad'}\n",
      "0.9678263147245861 {'batch_size': 64, 'epochs': 10, 'optimizer': 'rmsprop'}\n",
      "0.969395762739648 {'batch_size': 64, 'epochs': 10, 'optimizer': 'adam'}\n",
      "0.9701804868407253 {'batch_size': 64, 'epochs': 10, 'optimizer': 'Adagrad'}\n",
      "0.9599790739632701 {'batch_size': 64, 'epochs': 20, 'optimizer': 'rmsprop'}\n",
      "0.9785508765869979 {'batch_size': 64, 'epochs': 20, 'optimizer': 'adam'}\n",
      "0.9761967046423604 {'batch_size': 64, 'epochs': 20, 'optimizer': 'Adagrad'}\n",
      "0.9280669634142005 {'batch_size': 128, 'epochs': 5, 'optimizer': 'rmsprop'}\n",
      "0.9395762480368578 {'batch_size': 128, 'epochs': 5, 'optimizer': 'adam'}\n",
      "0.9434998693217976 {'batch_size': 128, 'epochs': 5, 'optimizer': 'Adagrad'}\n",
      "0.934606328782005 {'batch_size': 128, 'epochs': 10, 'optimizer': 'rmsprop'}\n",
      "0.9662568669745725 {'batch_size': 128, 'epochs': 10, 'optimizer': 'adam'}\n",
      "0.9652105683342437 {'batch_size': 128, 'epochs': 10, 'optimizer': 'Adagrad'}\n",
      "0.9571017518799373 {'batch_size': 128, 'epochs': 20, 'optimizer': 'rmsprop'}\n",
      "0.9717499348869693 {'batch_size': 128, 'epochs': 20, 'optimizer': 'adam'}\n",
      "0.9725346598299641 {'batch_size': 128, 'epochs': 20, 'optimizer': 'Adagrad'}\n"
     ]
    }
   ],
   "source": [
    "cvres = grid_result.cv_results_\n",
    "for mean_score, params in zip(cvres[\"mean_test_score\"], cvres[\"params\"]):\n",
    "    print(mean_score, params)"
   ]
  },
  {
   "cell_type": "code",
   "execution_count": 9,
   "metadata": {},
   "outputs": [],
   "source": [
    "model2 = models.Sequential()\n",
    "model2.add(layers.Conv2D(32, (3, 3), activation='relu',\n",
    "                        input_shape=(8, 8, 1)))\n",
    "model2.add(layers.MaxPooling2D((2, 2)))\n",
    "model2.add(layers.Conv2D(64, (3, 3), activation='relu'))\n",
    "#model.add(layers.MaxPooling2D((2, 2)))\n",
    "model2.add(layers.Flatten())\n",
    "model2.add(layers.Dense(512, activation='relu'))\n",
    "model2.add(layers.Dense(10, activation='softmax'))\n",
    "model2.compile(optimizer=grid_result.best_params_['optimizer'],loss='categorical_crossentropy',\n",
    "                metrics=['accuracy'])"
   ]
  },
  {
   "cell_type": "code",
   "execution_count": 10,
   "metadata": {},
   "outputs": [
    {
     "name": "stdout",
     "output_type": "stream",
     "text": [
      "_________________________________________________________________\n",
      "Layer (type)                 Output Shape              Param #   \n",
      "=================================================================\n",
      "conv2d_165 (Conv2D)          (None, 6, 6, 32)          320       \n",
      "_________________________________________________________________\n",
      "max_pooling2d_83 (MaxPooling (None, 3, 3, 32)          0         \n",
      "_________________________________________________________________\n",
      "conv2d_166 (Conv2D)          (None, 1, 1, 64)          18496     \n",
      "_________________________________________________________________\n",
      "flatten_83 (Flatten)         (None, 64)                0         \n",
      "_________________________________________________________________\n",
      "dense_165 (Dense)            (None, 512)               33280     \n",
      "_________________________________________________________________\n",
      "dense_166 (Dense)            (None, 10)                5130      \n",
      "=================================================================\n",
      "Total params: 57,226\n",
      "Trainable params: 57,226\n",
      "Non-trainable params: 0\n",
      "_________________________________________________________________\n"
     ]
    }
   ],
   "source": [
    "model2.summary()"
   ]
  },
  {
   "cell_type": "code",
   "execution_count": 11,
   "metadata": {},
   "outputs": [
    {
     "name": "stdout",
     "output_type": "stream",
     "text": [
      "Train on 3058 samples, validate on 765 samples\n",
      "Epoch 1/20\n",
      "3058/3058 [==============================] - 3s 848us/step - loss: 1.1129 - acc: 0.7247 - val_loss: 0.4898 - val_acc: 0.8523\n",
      "Epoch 2/20\n",
      "3058/3058 [==============================] - 0s 162us/step - loss: 0.2861 - acc: 0.9182 - val_loss: 0.2243 - val_acc: 0.9346\n",
      "Epoch 3/20\n",
      "3058/3058 [==============================] - 0s 160us/step - loss: 0.1916 - acc: 0.9434 - val_loss: 0.1530 - val_acc: 0.9542\n",
      "Epoch 4/20\n",
      "3058/3058 [==============================] - 0s 162us/step - loss: 0.1450 - acc: 0.9542 - val_loss: 0.1484 - val_acc: 0.9582\n",
      "Epoch 5/20\n",
      "3058/3058 [==============================] - 0s 160us/step - loss: 0.1182 - acc: 0.9689 - val_loss: 0.1211 - val_acc: 0.9739\n",
      "Epoch 6/20\n",
      "3058/3058 [==============================] - 0s 157us/step - loss: 0.1005 - acc: 0.9689 - val_loss: 0.1758 - val_acc: 0.9451\n",
      "Epoch 7/20\n",
      "3058/3058 [==============================] - 0s 162us/step - loss: 0.0884 - acc: 0.9748 - val_loss: 0.1374 - val_acc: 0.9542\n",
      "Epoch 8/20\n",
      "3058/3058 [==============================] - 0s 159us/step - loss: 0.0766 - acc: 0.9761 - val_loss: 0.0923 - val_acc: 0.9817\n",
      "Epoch 9/20\n",
      "3058/3058 [==============================] - 0s 159us/step - loss: 0.0626 - acc: 0.9820 - val_loss: 0.0620 - val_acc: 0.9895\n",
      "Epoch 10/20\n",
      "3058/3058 [==============================] - 0s 157us/step - loss: 0.0568 - acc: 0.9840 - val_loss: 0.0666 - val_acc: 0.9856\n",
      "Epoch 11/20\n",
      "3058/3058 [==============================] - 0s 161us/step - loss: 0.0448 - acc: 0.9866 - val_loss: 0.0906 - val_acc: 0.9739\n",
      "Epoch 12/20\n",
      "3058/3058 [==============================] - 0s 153us/step - loss: 0.0450 - acc: 0.9853 - val_loss: 0.0603 - val_acc: 0.9869\n",
      "Epoch 13/20\n",
      "3058/3058 [==============================] - 1s 167us/step - loss: 0.0449 - acc: 0.9869 - val_loss: 0.0585 - val_acc: 0.9895\n",
      "Epoch 14/20\n",
      "3058/3058 [==============================] - 0s 156us/step - loss: 0.0312 - acc: 0.9912 - val_loss: 0.2467 - val_acc: 0.9307\n",
      "Epoch 15/20\n",
      "3058/3058 [==============================] - 0s 161us/step - loss: 0.0296 - acc: 0.9895 - val_loss: 0.0619 - val_acc: 0.9882\n",
      "Epoch 16/20\n",
      "3058/3058 [==============================] - 0s 149us/step - loss: 0.0276 - acc: 0.9908 - val_loss: 0.0866 - val_acc: 0.9817\n",
      "Epoch 17/20\n",
      "3058/3058 [==============================] - 0s 152us/step - loss: 0.0253 - acc: 0.9918 - val_loss: 0.0622 - val_acc: 0.9895\n",
      "Epoch 18/20\n",
      "3058/3058 [==============================] - 0s 159us/step - loss: 0.0229 - acc: 0.9938 - val_loss: 0.0727 - val_acc: 0.9830\n",
      "Epoch 19/20\n",
      "3058/3058 [==============================] - 0s 162us/step - loss: 0.0190 - acc: 0.9928 - val_loss: 0.0565 - val_acc: 0.9908\n",
      "Epoch 20/20\n",
      "3058/3058 [==============================] - 0s 159us/step - loss: 0.0174 - acc: 0.9954 - val_loss: 0.0527 - val_acc: 0.9895\n"
     ]
    }
   ],
   "source": [
    "history2 = model2.fit(X_train, y_train, validation_split=0.2, epochs=grid_result.best_params_['epochs'],\n",
    "                      batch_size=grid_result.best_params_['batch_size'])"
   ]
  },
  {
   "cell_type": "code",
   "execution_count": 12,
   "metadata": {},
   "outputs": [
    {
     "data": {
      "image/png": "[encoded data removed]",
      "text/plain": [
       "<Figure size 432x288 with 1 Axes>"
      ]
     },
     "metadata": {},
     "output_type": "display_data"
    },
    {
     "data": {
      "image/png": "[encoded data removed]",
      "text/plain": [
       "<Figure size 432x288 with 1 Axes>"
      ]
     },
     "metadata": {},
     "output_type": "display_data"
    }
   ],
   "source": [
    "acc = history2.history['acc']\n",
    "val_acc = history2.history['val_acc']\n",
    "loss = history2.history['loss']\n",
    "val_loss = history2.history['val_loss']\n",
    "epochs = range(1, len(acc) + 1)\n",
    "plt.plot(epochs, acc, 'bo', label='Training acc')\n",
    "plt.plot(epochs, val_acc, 'b', label='Validation acc')\n",
    "plt.title('Training and validation accuracy')\n",
    "plt.legend()\n",
    "plt.figure()\n",
    "plt.plot(epochs, loss, 'bo', label='Training loss')\n",
    "plt.plot(epochs, val_loss, 'b', label='Validation loss')\n",
    "plt.title('Training and validation loss')\n",
    "plt.legend()\n",
    "plt.show()"
   ]
  },
  {
   "cell_type": "code",
   "execution_count": 13,
   "metadata": {},
   "outputs": [],
   "source": [
    "y_pred_test_2 = model2.predict_classes(X_test)\n",
    "y_pred_train_2 = model2.predict_classes(X_train)"
   ]
  },
  {
   "cell_type": "code",
   "execution_count": 14,
   "metadata": {},
   "outputs": [
    {
     "name": "stdout",
     "output_type": "stream",
     "text": [
      "1797/1797 [==============================] - 0s 70us/step\n",
      "Test accuracy is  0.9721758486366165\n"
     ]
    }
   ],
   "source": [
    "test_loss, test_acc = model2.evaluate(X_test, y_test)\n",
    "print(\"Test accuracy is \", test_acc)"
   ]
  },
  {
   "cell_type": "code",
   "execution_count": 18,
   "metadata": {},
   "outputs": [
    {
     "name": "stdout",
     "output_type": "stream",
     "text": [
      "3823/3823 [==============================] - 0s 74us/step\n",
      "Train accuracy is  0.9955532304472927\n"
     ]
    }
   ],
   "source": [
    "train_loss, train_acc = model2.evaluate(X_train, y_train)\n",
    "print(\"Train accuracy is \", train_acc)"
   ]
  },
  {
   "cell_type": "code",
   "execution_count": 15,
   "metadata": {},
   "outputs": [
    {
     "name": "stdout",
     "output_type": "stream",
     "text": [
      "351.45894622802734\n"
     ]
    }
   ],
   "source": [
    "end = time.time()\n",
    "print(end - start)"
   ]
  }
 ],
 "metadata": {
  "kernelspec": {
   "display_name": "Python 3",
   "language": "python",
   "name": "python3"
  },
  "language_info": {
   "codemirror_mode": {
    "name": "ipython",
    "version": 3
   },
   "file_extension": ".py",
   "mimetype": "text/x-python",
   "name": "python",
   "nbconvert_exporter": "python",
   "pygments_lexer": "ipython3",
   "version": "3.6.5"
  }
 },
 "nbformat": 4,
 "nbformat_minor": 2
}
