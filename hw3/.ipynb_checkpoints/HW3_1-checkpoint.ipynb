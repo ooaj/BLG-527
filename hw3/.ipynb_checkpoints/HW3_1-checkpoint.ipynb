{
 "cells": [
  {
   "cell_type": "code",
   "execution_count": 1,
   "metadata": {},
   "outputs": [],
   "source": [
    "import pandas as pd\n",
    "import numpy as np\n",
    "from sklearn import tree\n",
    "from matplotlib import pyplot as plt\n",
    "from sklearn.ensemble import RandomForestClassifier\n",
    "from sklearn.tree import DecisionTreeClassifier\n",
    "from sklearn.metrics import accuracy_score\n",
    "import time"
   ]
  },
  {
   "cell_type": "code",
   "execution_count": 2,
   "metadata": {},
   "outputs": [],
   "source": [
    "# import data as pandas data frame, change according to your path\n",
    "start = time.time()\n",
    "train_data = pd.read_csv(\"/home/ooa/Belgeler/git/BLG-527/hw3/Data/optdigits.tra\", header=None)\n",
    "test_data = pd.read_csv(\"/home/ooa/Belgeler/git/BLG-527/hw3/Data/optdigits.tes\", header=None)"
   ]
  },
  {
   "cell_type": "code",
   "execution_count": 3,
   "metadata": {},
   "outputs": [],
   "source": [
    "train_data = train_data.values\n",
    "test_data = test_data.values"
   ]
  },
  {
   "cell_type": "code",
   "execution_count": 4,
   "metadata": {},
   "outputs": [],
   "source": [
    "y_train = train_data[:,64]\n",
    "y_test = test_data[:,64]"
   ]
  },
  {
   "cell_type": "code",
   "execution_count": 5,
   "metadata": {},
   "outputs": [],
   "source": [
    "X_train = train_data[:,:64]\n",
    "X_test = test_data[:,:64]"
   ]
  },
  {
   "cell_type": "code",
   "execution_count": 6,
   "metadata": {},
   "outputs": [],
   "source": [
    "#X_train, X_val, y_train, y_val = train_test_split(X_train, y_train, test_size=0.2, random_state=1)"
   ]
  },
  {
   "cell_type": "code",
   "execution_count": 7,
   "metadata": {},
   "outputs": [
    {
     "data": {
      "image/png": "[encoded data removed]",
      "text/plain": [
       "<Figure size 432x288 with 1 Axes>"
      ]
     },
     "metadata": {},
     "output_type": "display_data"
    }
   ],
   "source": [
    "deneme_7 = test_data[1, :64]\n",
    "deneme_7 = np.reshape(deneme_7, (8,8))\n",
    "plt.imshow(deneme_7, interpolation='Nearest')\n",
    "plt.show()"
   ]
  },
  {
   "cell_type": "code",
   "execution_count": 8,
   "metadata": {},
   "outputs": [
    {
     "data": {
      "text/plain": [
       "DecisionTreeClassifier(class_weight=None, criterion='gini', max_depth=3,\n",
       "            max_features=2, max_leaf_nodes=None, min_impurity_split=1e-07,\n",
       "            min_samples_leaf=1, min_samples_split=2,\n",
       "            min_weight_fraction_leaf=0.0, presort=False, random_state=None,\n",
       "            splitter='best')"
      ]
     },
     "execution_count": 8,
     "metadata": {},
     "output_type": "execute_result"
    }
   ],
   "source": [
    "clf_gini = DecisionTreeClassifier(max_depth=3, max_features=2)\n",
    "clf_gini.fit(X_train, y_train)"
   ]
  },
  {
   "cell_type": "code",
   "execution_count": 9,
   "metadata": {},
   "outputs": [],
   "source": [
    "y_pred_test = clf_gini.predict(X_test)\n",
    "y_pred_train = clf_gini.predict(X_train)"
   ]
  },
  {
   "cell_type": "code",
   "execution_count": 10,
   "metadata": {},
   "outputs": [
    {
     "name": "stdout",
     "output_type": "stream",
     "text": [
      "Test accuracy is  30.77351140790206\n",
      "Train accuracy is  32.22600052314936\n"
     ]
    }
   ],
   "source": [
    "print (\"Test accuracy is \", accuracy_score(y_test,y_pred_test)*100)\n",
    "print (\"Train accuracy is \", accuracy_score(y_train,y_pred_train)*100)"
   ]
  },
  {
   "cell_type": "code",
   "execution_count": 11,
   "metadata": {},
   "outputs": [
    {
     "data": {
      "text/plain": [
       "GridSearchCV(cv=5, error_score='raise',\n",
       "       estimator=DecisionTreeClassifier(class_weight=None, criterion='gini', max_depth=None,\n",
       "            max_features=None, max_leaf_nodes=None,\n",
       "            min_impurity_split=1e-07, min_samples_leaf=1,\n",
       "            min_samples_split=2, min_weight_fraction_leaf=0.0,\n",
       "            presort=False, random_state=None, splitter='best'),\n",
       "       fit_params={}, iid=True, n_jobs=1,\n",
       "       param_grid=[{'max_depth': [3, 10, 30, 40, 50], 'max_features': [2, 4, 6, 8, 10, 12]}, {'criterion': ['entropy'], 'max_depth': [3, 10, 30, 40, 50], 'max_features': [2, 4, 6, 8, 10, 12]}],\n",
       "       pre_dispatch='2*n_jobs', refit=True, return_train_score=True,\n",
       "       scoring='accuracy', verbose=0)"
      ]
     },
     "execution_count": 11,
     "metadata": {},
     "output_type": "execute_result"
    }
   ],
   "source": [
    "from sklearn.model_selection import GridSearchCV\n",
    "param_grid = [\n",
    "{'max_depth': [3, 10, 30, 40, 50], 'max_features': [2, 4, 6, 8, 10, 12]},\n",
    "{'criterion': ['entropy'], 'max_depth': [3, 10, 30, 40, 50], 'max_features': [2, 4, 6, 8, 10, 12]},\n",
    "]\n",
    "clf_gini_2 = DecisionTreeClassifier()\n",
    "grid_search = GridSearchCV(clf_gini_2, param_grid, cv=5,\n",
    "scoring='accuracy')\n",
    "grid_search.fit(X_train, y_train)"
   ]
  },
  {
   "cell_type": "code",
   "execution_count": 12,
   "metadata": {
    "scrolled": true
   },
   "outputs": [
    {
     "name": "stdout",
     "output_type": "stream",
     "text": [
      "0.3745749411456971 {'max_depth': 3, 'max_features': 2}\n",
      "0.4300287732147528 {'max_depth': 3, 'max_features': 4}\n",
      "0.4410149097567356 {'max_depth': 3, 'max_features': 6}\n",
      "0.47188072194611563 {'max_depth': 3, 'max_features': 8}\n",
      "0.47711221553753597 {'max_depth': 3, 'max_features': 10}\n",
      "0.46664922835469524 {'max_depth': 3, 'max_features': 12}\n",
      "0.7365942976719854 {'max_depth': 10, 'max_features': 2}\n",
      "0.805911587758305 {'max_depth': 10, 'max_features': 4}\n",
      "0.8247449646874182 {'max_depth': 10, 'max_features': 6}\n",
      "0.8297148835992676 {'max_depth': 10, 'max_features': 8}\n",
      "0.8331153544336908 {'max_depth': 10, 'max_features': 10}\n",
      "0.8532566047606591 {'max_depth': 10, 'max_features': 12}\n",
      "0.7664138111430814 {'max_depth': 30, 'max_features': 2}\n",
      "0.8098352079518703 {'max_depth': 30, 'max_features': 4}\n",
      "0.8192518964164269 {'max_depth': 30, 'max_features': 6}\n",
      "0.8299764582788386 {'max_depth': 30, 'max_features': 8}\n",
      "0.865289040020926 {'max_depth': 30, 'max_features': 10}\n",
      "0.865550614700497 {'max_depth': 30, 'max_features': 12}\n",
      "0.7588281454355218 {'max_depth': 40, 'max_features': 2}\n",
      "0.7980643473711745 {'max_depth': 40, 'max_features': 4}\n",
      "0.8247449646874182 {'max_depth': 40, 'max_features': 6}\n",
      "0.8375621239863981 {'max_depth': 40, 'max_features': 8}\n",
      "0.851164007324091 {'max_depth': 40, 'max_features': 10}\n",
      "0.8639811666230709 {'max_depth': 40, 'max_features': 12}\n",
      "0.7543813758828145 {'max_depth': 50, 'max_features': 2}\n",
      "0.8174208736594297 {'max_depth': 50, 'max_features': 4}\n",
      "0.821344493852995 {'max_depth': 50, 'max_features': 6}\n",
      "0.8341616531519749 {'max_depth': 50, 'max_features': 8}\n",
      "0.8495945592466649 {'max_depth': 50, 'max_features': 10}\n",
      "0.8574417996337954 {'max_depth': 50, 'max_features': 12}\n",
      "0.37562123986398116 {'criterion': 'entropy', 'max_depth': 3, 'max_features': 2}\n",
      "0.4049176039759351 {'criterion': 'entropy', 'max_depth': 3, 'max_features': 4}\n",
      "0.4598482866858488 {'criterion': 'entropy', 'max_depth': 3, 'max_features': 6}\n",
      "0.46220245880198796 {'criterion': 'entropy', 'max_depth': 3, 'max_features': 8}\n",
      "0.48286685848809835 {'criterion': 'entropy', 'max_depth': 3, 'max_features': 10}\n",
      "0.5087627517656291 {'criterion': 'entropy', 'max_depth': 3, 'max_features': 12}\n",
      "0.7248234370912896 {'criterion': 'entropy', 'max_depth': 10, 'max_features': 2}\n",
      "0.7865550614700497 {'criterion': 'entropy', 'max_depth': 10, 'max_features': 4}\n",
      "0.8265759874444154 {'criterion': 'entropy', 'max_depth': 10, 'max_features': 6}\n",
      "0.8375621239863981 {'criterion': 'entropy', 'max_depth': 10, 'max_features': 8}\n",
      "0.8595343970703636 {'criterion': 'entropy', 'max_depth': 10, 'max_features': 10}\n",
      "0.8503792832853779 {'criterion': 'entropy', 'max_depth': 10, 'max_features': 12}\n",
      "0.761443892231232 {'criterion': 'entropy', 'max_depth': 30, 'max_features': 2}\n",
      "0.807481035835731 {'criterion': 'entropy', 'max_depth': 30, 'max_features': 4}\n",
      "0.8312843316766937 {'criterion': 'entropy', 'max_depth': 30, 'max_features': 6}\n",
      "0.8477635364896678 {'criterion': 'entropy', 'max_depth': 30, 'max_features': 8}\n",
      "0.8472403871305257 {'criterion': 'entropy', 'max_depth': 30, 'max_features': 10}\n",
      "0.8668584880983521 {'criterion': 'entropy', 'max_depth': 30, 'max_features': 12}\n",
      "0.7601360188333769 {'criterion': 'entropy', 'max_depth': 40, 'max_features': 2}\n",
      "0.821344493852995 {'criterion': 'entropy', 'max_depth': 40, 'max_features': 4}\n",
      "0.8446246403348155 {'criterion': 'entropy', 'max_depth': 40, 'max_features': 6}\n",
      "0.8571802249542244 {'criterion': 'entropy', 'max_depth': 40, 'max_features': 8}\n",
      "0.8574417996337954 {'criterion': 'entropy', 'max_depth': 40, 'max_features': 10}\n",
      "0.8590112477112215 {'criterion': 'entropy', 'max_depth': 40, 'max_features': 12}\n",
      "0.7475804342139681 {'criterion': 'entropy', 'max_depth': 50, 'max_features': 2}\n",
      "0.7967564739733194 {'criterion': 'entropy', 'max_depth': 50, 'max_features': 4}\n",
      "0.8289301595605545 {'criterion': 'entropy', 'max_depth': 50, 'max_features': 6}\n",
      "0.8422704682186765 {'criterion': 'entropy', 'max_depth': 50, 'max_features': 8}\n",
      "0.8639811666230709 {'criterion': 'entropy', 'max_depth': 50, 'max_features': 10}\n",
      "0.8616269945069317 {'criterion': 'entropy', 'max_depth': 50, 'max_features': 12}\n"
     ]
    }
   ],
   "source": [
    "cvres = grid_search.cv_results_\n",
    "for mean_score, params in zip(cvres[\"mean_test_score\"], cvres[\"params\"]):\n",
    "    print(mean_score, params)"
   ]
  },
  {
   "cell_type": "code",
   "execution_count": 13,
   "metadata": {},
   "outputs": [
    {
     "data": {
      "text/plain": [
       "{'criterion': 'entropy', 'max_depth': 30, 'max_features': 12}"
      ]
     },
     "execution_count": 13,
     "metadata": {},
     "output_type": "execute_result"
    }
   ],
   "source": [
    "grid_search.best_params_"
   ]
  },
  {
   "cell_type": "code",
   "execution_count": 14,
   "metadata": {},
   "outputs": [
    {
     "data": {
      "text/plain": [
       "DecisionTreeClassifier(class_weight=None, criterion='entropy', max_depth=30,\n",
       "            max_features=12, max_leaf_nodes=None, min_impurity_split=1e-07,\n",
       "            min_samples_leaf=1, min_samples_split=2,\n",
       "            min_weight_fraction_leaf=0.0, presort=False, random_state=None,\n",
       "            splitter='best')"
      ]
     },
     "execution_count": 14,
     "metadata": {},
     "output_type": "execute_result"
    }
   ],
   "source": [
    "grid_search.best_estimator_"
   ]
  },
  {
   "cell_type": "code",
   "execution_count": 15,
   "metadata": {},
   "outputs": [
    {
     "data": {
      "text/plain": [
       "DecisionTreeClassifier(class_weight=None, criterion='gini', max_depth=40,\n",
       "            max_features=12, max_leaf_nodes=None, min_impurity_split=1e-07,\n",
       "            min_samples_leaf=1, min_samples_split=2,\n",
       "            min_weight_fraction_leaf=0.0, presort=False, random_state=None,\n",
       "            splitter='best')"
      ]
     },
     "execution_count": 15,
     "metadata": {},
     "output_type": "execute_result"
    }
   ],
   "source": [
    "\n",
    "clf_gini_3 = DecisionTreeClassifier(class_weight=None, criterion='gini', max_depth=40,\n",
    "            max_features=12, max_leaf_nodes=None, min_impurity_split=1e-07,\n",
    "            min_samples_leaf=1, min_samples_split=2,\n",
    "            min_weight_fraction_leaf=0.0, presort=False, random_state=None,\n",
    "            splitter='best')\n",
    "clf_gini_3.fit(X_train, y_train)\n"
   ]
  },
  {
   "cell_type": "code",
   "execution_count": 16,
   "metadata": {},
   "outputs": [],
   "source": [
    "y_pred_test_3 = clf_gini_3.predict(X_test)\n",
    "y_pred_train_3 = clf_gini_3.predict(X_train)"
   ]
  },
  {
   "cell_type": "code",
   "execution_count": 17,
   "metadata": {},
   "outputs": [
    {
     "name": "stdout",
     "output_type": "stream",
     "text": [
      "Test accuracy is  83.08291597106289\n",
      "Train accuracy is  100.0\n",
      "4.737738370895386\n"
     ]
    }
   ],
   "source": [
    "print (\"Test accuracy is \", accuracy_score(y_test,y_pred_test_3)*100)\n",
    "print (\"Train accuracy is \", accuracy_score(y_train,y_pred_train_3)*100)\n",
    "\n",
    "end = time.time()\n",
    "print(end - start)"
   ]
  },
  {
   "cell_type": "code",
   "execution_count": 18,
   "metadata": {},
   "outputs": [],
   "source": [
    "# Zaman ve BF ekle?"
   ]
  }
 ],
 "metadata": {
  "kernelspec": {
   "display_name": "Python 3",
   "language": "python",
   "name": "python3"
  },
  "language_info": {
   "codemirror_mode": {
    "name": "ipython",
    "version": 3
   },
   "file_extension": ".py",
   "mimetype": "text/x-python",
   "name": "python",
   "nbconvert_exporter": "python",
   "pygments_lexer": "ipython3",
   "version": "3.6.5"
  }
 },
 "nbformat": 4,
 "nbformat_minor": 2
}
