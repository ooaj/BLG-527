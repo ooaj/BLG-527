{
 "cells": [
  {
   "cell_type": "code",
   "execution_count": 1,
   "metadata": {},
   "outputs": [],
   "source": [
    "import pandas as pd\n",
    "import numpy as np\n",
    "from matplotlib import pyplot as plt\n",
    "from sklearn.metrics import accuracy_score\n",
    "from sklearn.neural_network import MLPClassifier\n",
    "from sklearn.model_selection import GridSearchCV\n",
    "import time"
   ]
  },
  {
   "cell_type": "code",
   "execution_count": 2,
   "metadata": {},
   "outputs": [],
   "source": [
    "# import data as pandas data frame, change according to your path\n",
    "start = time.time()\n",
    "train_data = pd.read_csv(\"/home/ooa/Belgeler/git/BLG-527/hw3/Data/optdigits.tra\", header=None)\n",
    "test_data = pd.read_csv(\"/home/ooa/Belgeler/git/BLG-527/hw3/Data/optdigits.tes\", header=None)\n",
    "\n",
    "train_data = train_data.values\n",
    "test_data = test_data.values\n",
    "\n",
    "y_train = train_data[:,64]\n",
    "y_test = test_data[:,64]\n",
    "\n",
    "X_train = train_data[:,:64]\n",
    "X_test = test_data[:,:64]\n",
    "\n",
    "# X_train, X_val, y_train, y_val = train_test_split(X_train, y_train, test_size=0.2, random_state=1)"
   ]
  },
  {
   "cell_type": "code",
   "execution_count": 3,
   "metadata": {
    "scrolled": true
   },
   "outputs": [
    {
     "data": {
      "text/plain": [
       "MLPClassifier(activation='relu', alpha=1e-06, batch_size='auto', beta_1=0.9,\n",
       "       beta_2=0.999, early_stopping=False, epsilon=1e-08,\n",
       "       hidden_layer_sizes=8, learning_rate='constant',\n",
       "       learning_rate_init=0.001, max_iter=200, momentum=0.9,\n",
       "       nesterovs_momentum=True, power_t=0.5, random_state=None,\n",
       "       shuffle=True, solver='adam', tol=0.0001, validation_fraction=0.1,\n",
       "       verbose=False, warm_start=False)"
      ]
     },
     "execution_count": 3,
     "metadata": {},
     "output_type": "execute_result"
    }
   ],
   "source": [
    "mlp = MLPClassifier(alpha = 0.000001, hidden_layer_sizes = 8)\n",
    "mlp.fit(X_train, y_train)"
   ]
  },
  {
   "cell_type": "code",
   "execution_count": 4,
   "metadata": {},
   "outputs": [],
   "source": [
    "y_pred_test = mlp.predict(X_test)\n",
    "y_pred_train = mlp.predict(X_train)"
   ]
  },
  {
   "cell_type": "code",
   "execution_count": 5,
   "metadata": {},
   "outputs": [
    {
     "name": "stdout",
     "output_type": "stream",
     "text": [
      "Test accuracy is  92.71007234279355\n",
      "Train accuracy is  97.85508762751766\n"
     ]
    }
   ],
   "source": [
    "print (\"Test accuracy is \", accuracy_score(y_test,y_pred_test)*100)\n",
    "print (\"Train accuracy is \", accuracy_score(y_train,y_pred_train)*100)"
   ]
  },
  {
   "cell_type": "code",
   "execution_count": 6,
   "metadata": {},
   "outputs": [
    {
     "data": {
      "text/plain": [
       "\"param_grid = [\\n{'alpha': [0.00001, 0.0001, 0.001, 0.01], 'hidden_layer_sizes': [32, 64, (64, 64), 128, 256]},\\n{'activation':, 'tanh': [0.00001, 0.0001, 0.001, 0.01], 'hidden_layer_sizes': [32, 64, (64, 64), 128, 256]},\\n]\\nmlp_2 = MLPClassifier()\\ngrid_search = GridSearchCV(mlp_2, param_grid, cv=5,\\nscoring='accuracy')\\ngrid_search.fit(X_train, y_train)\""
      ]
     },
     "execution_count": 6,
     "metadata": {},
     "output_type": "execute_result"
    }
   ],
   "source": [
    "'''param_grid = [\n",
    "{'alpha': [0.00001, 0.0001, 0.001, 0.01], 'hidden_layer_sizes': [32, 64, (64, 64), 128, 256]},\n",
    "{'activation':, 'tanh': [0.00001, 0.0001, 0.001, 0.01], 'hidden_layer_sizes': [32, 64, (64, 64), 128, 256]},\n",
    "]\n",
    "mlp_2 = MLPClassifier()\n",
    "grid_search = GridSearchCV(mlp_2, param_grid, cv=5,\n",
    "scoring='accuracy')\n",
    "grid_search.fit(X_train, y_train)'''"
   ]
  },
  {
   "cell_type": "code",
   "execution_count": 7,
   "metadata": {},
   "outputs": [
    {
     "data": {
      "text/plain": [
       "GridSearchCV(cv=5, error_score='raise',\n",
       "       estimator=MLPClassifier(activation='relu', alpha=0.0001, batch_size='auto', beta_1=0.9,\n",
       "       beta_2=0.999, early_stopping=False, epsilon=1e-08,\n",
       "       hidden_layer_sizes=(100,), learning_rate='constant',\n",
       "       learning_rate_init=0.001, max_iter=200, momentum=0.9,\n",
       "       nesterovs_momentum=True, power_t=0.5, random_state=None,\n",
       "       shuffle=True, solver='adam', tol=0.0001, validation_fraction=0.1,\n",
       "       verbose=False, warm_start=False),\n",
       "       fit_params={}, iid=True, n_jobs=1,\n",
       "       param_grid=[{'early_stopping': [True], 'alpha': [0.0001, 0.001, 0.01], 'hidden_layer_sizes': [32, 64, (64, 64), 128, 256]}],\n",
       "       pre_dispatch='2*n_jobs', refit=True, return_train_score=True,\n",
       "       scoring='accuracy', verbose=0)"
      ]
     },
     "execution_count": 7,
     "metadata": {},
     "output_type": "execute_result"
    }
   ],
   "source": [
    "param_grid = [\n",
    "#{'hidden_layer_sizes': [32, 64, (64, 64), 128, (128, 128), 256]}]\n",
    "{'early_stopping': [True], 'alpha': [0.0001, 0.001, 0.01], 'hidden_layer_sizes': [32, 64, (64, 64), 128, 256]}]\n",
    "mlp_2 = MLPClassifier()\n",
    "grid_search = GridSearchCV(mlp_2, param_grid, cv=5,\n",
    "scoring='accuracy')\n",
    "grid_search.fit(X_train, y_train)"
   ]
  },
  {
   "cell_type": "code",
   "execution_count": 8,
   "metadata": {},
   "outputs": [
    {
     "name": "stdout",
     "output_type": "stream",
     "text": [
      "0.9356526288255297 {'alpha': 0.0001, 'early_stopping': True, 'hidden_layer_sizes': 32}\n",
      "0.9432382945330892 {'alpha': 0.0001, 'early_stopping': True, 'hidden_layer_sizes': 64}\n",
      "0.9605022233847763 {'alpha': 0.0001, 'early_stopping': True, 'hidden_layer_sizes': (64, 64)}\n",
      "0.9591943499869212 {'alpha': 0.0001, 'early_stopping': True, 'hidden_layer_sizes': 128}\n",
      "0.9641642688987706 {'alpha': 0.0001, 'early_stopping': True, 'hidden_layer_sizes': 256}\n",
      "0.9359142035051007 {'alpha': 0.001, 'early_stopping': True, 'hidden_layer_sizes': 32}\n",
      "0.9492545121632227 {'alpha': 0.001, 'early_stopping': True, 'hidden_layer_sizes': 64}\n",
      "0.9505623855610776 {'alpha': 0.001, 'early_stopping': True, 'hidden_layer_sizes': (64, 64)}\n",
      "0.9578864765890662 {'alpha': 0.001, 'early_stopping': True, 'hidden_layer_sizes': 128}\n",
      "0.9594559246664923 {'alpha': 0.001, 'early_stopping': True, 'hidden_layer_sizes': 256}\n",
      "0.9330368820298195 {'alpha': 0.01, 'early_stopping': True, 'hidden_layer_sizes': 32}\n",
      "0.9463771906879415 {'alpha': 0.01, 'early_stopping': True, 'hidden_layer_sizes': 64}\n",
      "0.9639026942191996 {'alpha': 0.01, 'early_stopping': True, 'hidden_layer_sizes': (64, 64)}\n",
      "0.9597174993460633 {'alpha': 0.01, 'early_stopping': True, 'hidden_layer_sizes': 128}\n",
      "0.9680878890923359 {'alpha': 0.01, 'early_stopping': True, 'hidden_layer_sizes': 256}\n"
     ]
    }
   ],
   "source": [
    "cvres = grid_search.cv_results_\n",
    "for mean_score, params in zip(cvres[\"mean_test_score\"], cvres[\"params\"]):\n",
    "    print(mean_score, params)"
   ]
  },
  {
   "cell_type": "code",
   "execution_count": 9,
   "metadata": {},
   "outputs": [
    {
     "data": {
      "text/plain": [
       "{'alpha': 0.01, 'early_stopping': True, 'hidden_layer_sizes': 256}"
      ]
     },
     "execution_count": 9,
     "metadata": {},
     "output_type": "execute_result"
    }
   ],
   "source": [
    "grid_search.best_params_"
   ]
  },
  {
   "cell_type": "code",
   "execution_count": 10,
   "metadata": {
    "scrolled": true
   },
   "outputs": [
    {
     "data": {
      "text/plain": [
       "MLPClassifier(activation='relu', alpha=0.01, batch_size='auto', beta_1=0.9,\n",
       "       beta_2=0.999, early_stopping=True, epsilon=1e-08,\n",
       "       hidden_layer_sizes=256, learning_rate='constant',\n",
       "       learning_rate_init=0.001, max_iter=200, momentum=0.9,\n",
       "       nesterovs_momentum=True, power_t=0.5, random_state=None,\n",
       "       shuffle=True, solver='adam', tol=0.0001, validation_fraction=0.1,\n",
       "       verbose=False, warm_start=False)"
      ]
     },
     "execution_count": 10,
     "metadata": {},
     "output_type": "execute_result"
    }
   ],
   "source": [
    "grid_search.best_estimator_"
   ]
  },
  {
   "cell_type": "code",
   "execution_count": 11,
   "metadata": {},
   "outputs": [
    {
     "data": {
      "text/plain": [
       "MLPClassifier(activation='relu', alpha=0.01, batch_size='auto', beta_1=0.9,\n",
       "       beta_2=0.999, early_stopping=True, epsilon=1e-08,\n",
       "       hidden_layer_sizes=256, learning_rate='constant',\n",
       "       learning_rate_init=0.001, max_iter=200, momentum=0.9,\n",
       "       nesterovs_momentum=True, power_t=0.5, random_state=None,\n",
       "       shuffle=True, solver='adam', tol=0.0001, validation_fraction=0.1,\n",
       "       verbose=False, warm_start=False)"
      ]
     },
     "execution_count": 11,
     "metadata": {},
     "output_type": "execute_result"
    }
   ],
   "source": [
    "mlp_3 = grid_search.best_estimator_\n",
    "mlp_3.fit(X_train, y_train)"
   ]
  },
  {
   "cell_type": "code",
   "execution_count": 12,
   "metadata": {},
   "outputs": [],
   "source": [
    "y_pred_test_3 = mlp_3.predict(X_test)\n",
    "y_pred_train_3 = mlp_3.predict(X_train)"
   ]
  },
  {
   "cell_type": "code",
   "execution_count": 13,
   "metadata": {},
   "outputs": [
    {
     "name": "stdout",
     "output_type": "stream",
     "text": [
      "Test accuracy is  93.71174179187534\n",
      "Train accuracy is  97.22730839654722\n"
     ]
    }
   ],
   "source": [
    "print (\"Test accuracy is \", accuracy_score(y_test,y_pred_test_3)*100)\n",
    "print (\"Train accuracy is \", accuracy_score(y_train,y_pred_train_3)*100)"
   ]
  },
  {
   "cell_type": "code",
   "execution_count": 14,
   "metadata": {},
   "outputs": [
    {
     "name": "stdout",
     "output_type": "stream",
     "text": [
      "77.4260265827179\n"
     ]
    }
   ],
   "source": [
    "end = time.time()\n",
    "print(end - start)"
   ]
  }
 ],
 "metadata": {
  "kernelspec": {
   "display_name": "Python 3",
   "language": "python",
   "name": "python3"
  },
  "language_info": {
   "codemirror_mode": {
    "name": "ipython",
    "version": 3
   },
   "file_extension": ".py",
   "mimetype": "text/x-python",
   "name": "python",
   "nbconvert_exporter": "python",
   "pygments_lexer": "ipython3",
   "version": "3.6.5"
  }
 },
 "nbformat": 4,
 "nbformat_minor": 2
}
