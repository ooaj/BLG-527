{
 "cells": [
  {
   "cell_type": "code",
   "execution_count": 1,
   "metadata": {},
   "outputs": [],
   "source": [
    "import pandas as pd\n",
    "import numpy as np\n",
    "from sklearn import tree\n",
    "from matplotlib import pyplot as plt\n",
    "from sklearn.ensemble import RandomForestClassifier\n",
    "from sklearn.tree import DecisionTreeClassifier\n",
    "from sklearn.metrics import accuracy_score"
   ]
  },
  {
   "cell_type": "code",
   "execution_count": 2,
   "metadata": {},
   "outputs": [],
   "source": [
    "# import data as pandas data frame, change according to your path\n",
    "train_data = pd.read_csv(\"/home/ooa/Belgeler/git/BLG-527/hw3/Data/optdigits.tra\", header=None)\n",
    "test_data = pd.read_csv(\"/home/ooa/Belgeler/git/BLG-527/hw3/Data/optdigits.tes\", header=None)"
   ]
  },
  {
   "cell_type": "code",
   "execution_count": 3,
   "metadata": {},
   "outputs": [],
   "source": [
    "train_data = train_data.values\n",
    "test_data = test_data.values"
   ]
  },
  {
   "cell_type": "code",
   "execution_count": 4,
   "metadata": {},
   "outputs": [],
   "source": [
    "y_train = train_data[:,64]\n",
    "y_test = test_data[:,64]"
   ]
  },
  {
   "cell_type": "code",
   "execution_count": 5,
   "metadata": {},
   "outputs": [],
   "source": [
    "X_train = train_data[:,:64]\n",
    "X_test = test_data[:,:64]"
   ]
  },
  {
   "cell_type": "code",
   "execution_count": null,
   "metadata": {},
   "outputs": [],
   "source": [
    "#X_train, X_val, y_train, y_val = train_test_split(X_train, y_train, test_size=0.2, random_state=1)"
   ]
  },
  {
   "cell_type": "code",
   "execution_count": null,
   "metadata": {},
   "outputs": [],
   "source": [
    "deneme_7 = test_data[1, :64]\n",
    "deneme_7 = np.reshape(deneme_7, (8,8))\n",
    "plt.imshow(deneme_7, interpolation='Nearest')\n",
    "plt.show()"
   ]
  },
  {
   "cell_type": "code",
   "execution_count": 6,
   "metadata": {},
   "outputs": [
    {
     "data": {
      "text/plain": [
       "DecisionTreeClassifier(class_weight=None, criterion='gini', max_depth=3,\n",
       "            max_features=2, max_leaf_nodes=None, min_impurity_split=1e-07,\n",
       "            min_samples_leaf=1, min_samples_split=2,\n",
       "            min_weight_fraction_leaf=0.0, presort=False, random_state=None,\n",
       "            splitter='best')"
      ]
     },
     "execution_count": 6,
     "metadata": {},
     "output_type": "execute_result"
    }
   ],
   "source": [
    "clf_gini = DecisionTreeClassifier(max_depth=3, max_features=2)\n",
    "clf_gini.fit(X_train, y_train)"
   ]
  },
  {
   "cell_type": "code",
   "execution_count": 7,
   "metadata": {},
   "outputs": [],
   "source": [
    "y_pred_test = clf_gini.predict(X_test)\n",
    "y_pred_train = clf_gini.predict(X_train)"
   ]
  },
  {
   "cell_type": "code",
   "execution_count": 8,
   "metadata": {},
   "outputs": [
    {
     "name": "stdout",
     "output_type": "stream",
     "text": [
      "Accuracy is  34.78018920422927\n",
      "Accuracy is  36.80355741564217\n"
     ]
    }
   ],
   "source": [
    "print (\"Test accuracy is \", accuracy_score(y_test,y_pred_test)*100)\n",
    "print (\"Train accuracy is \", accuracy_score(y_train,y_pred_train)*100)"
   ]
  },
  {
   "cell_type": "code",
   "execution_count": 12,
   "metadata": {},
   "outputs": [
    {
     "data": {
      "text/plain": [
       "GridSearchCV(cv=5, error_score='raise',\n",
       "       estimator=DecisionTreeClassifier(class_weight=None, criterion='gini', max_depth=None,\n",
       "            max_features=None, max_leaf_nodes=None,\n",
       "            min_impurity_split=1e-07, min_samples_leaf=1,\n",
       "            min_samples_split=2, min_weight_fraction_leaf=0.0,\n",
       "            presort=False, random_state=None, splitter='best'),\n",
       "       fit_params={}, iid=True, n_jobs=1,\n",
       "       param_grid=[{'max_depth': [3, 10, 30, 40, 50], 'max_features': [2, 4, 6, 8, 10, 12]}, {'criterion': ['entropy'], 'max_depth': [3, 10, 30, 40, 50], 'max_features': [2, 4, 6, 8, 10, 12]}],\n",
       "       pre_dispatch='2*n_jobs', refit=True, return_train_score=True,\n",
       "       scoring='accuracy', verbose=0)"
      ]
     },
     "execution_count": 12,
     "metadata": {},
     "output_type": "execute_result"
    }
   ],
   "source": [
    "from sklearn.model_selection import GridSearchCV\n",
    "param_grid = [\n",
    "{'max_depth': [3, 10, 30, 40, 50], 'max_features': [2, 4, 6, 8, 10, 12]},\n",
    "{'criterion': ['entropy'], 'max_depth': [3, 10, 30, 40, 50], 'max_features': [2, 4, 6, 8, 10, 12]},\n",
    "]\n",
    "clf_gini_2 = DecisionTreeClassifier()\n",
    "grid_search = GridSearchCV(clf_gini_2, param_grid, cv=5,\n",
    "scoring='accuracy')\n",
    "grid_search.fit(X_train, y_train)"
   ]
  },
  {
   "cell_type": "code",
   "execution_count": 40,
   "metadata": {
    "scrolled": true
   },
   "outputs": [
    {
     "name": "stdout",
     "output_type": "stream",
     "text": [
      "0.31807481035835733 {'max_depth': 3, 'max_features': 2}\n",
      "0.4216583834684802 {'max_depth': 3, 'max_features': 4}\n",
      "0.4287208998168977 {'max_depth': 3, 'max_features': 6}\n",
      "0.4669108030342663 {'max_depth': 3, 'max_features': 8}\n",
      "0.4912372482343709 {'max_depth': 3, 'max_features': 10}\n",
      "0.44729270206643995 {'max_depth': 3, 'max_features': 12}\n",
      "0.7206382422181533 {'max_depth': 10, 'max_features': 2}\n",
      "0.7899555323044729 {'max_depth': 10, 'max_features': 4}\n",
      "0.8260528380852733 {'max_depth': 10, 'max_features': 6}\n",
      "0.8286685848809835 {'max_depth': 10, 'max_features': 8}\n",
      "0.8587496730316505 {'max_depth': 10, 'max_features': 10}\n",
      "0.8543029034789432 {'max_depth': 10, 'max_features': 12}\n",
      "0.7635364896678002 {'max_depth': 30, 'max_features': 2}\n",
      "0.8072194611561601 {'max_depth': 30, 'max_features': 4}\n",
      "0.8273607114831284 {'max_depth': 30, 'max_features': 6}\n",
      "0.8495945592466649 {'max_depth': 30, 'max_features': 8}\n",
      "0.8501177086058069 {'max_depth': 30, 'max_features': 10}\n",
      "0.8535181794402302 {'max_depth': 30, 'max_features': 12}\n",
      "0.7645827883860842 {'max_depth': 40, 'max_features': 2}\n",
      "0.8032958409625949 {'max_depth': 40, 'max_features': 4}\n",
      "0.8297148835992676 {'max_depth': 40, 'max_features': 6}\n",
      "0.8435783416165316 {'max_depth': 40, 'max_features': 8}\n",
      "0.8451477896939577 {'max_depth': 40, 'max_features': 10}\n",
      "0.8579649489929375 {'max_depth': 40, 'max_features': 12}\n",
      "0.761443892231232 {'max_depth': 50, 'max_features': 2}\n",
      "0.7970180486528904 {'max_depth': 50, 'max_features': 4}\n",
      "0.8242218153282762 {'max_depth': 50, 'max_features': 6}\n",
      "0.821606068532566 {'max_depth': 50, 'max_features': 8}\n",
      "0.851687156683233 {'max_depth': 50, 'max_features': 10}\n",
      "0.8603191211090766 {'max_depth': 50, 'max_features': 12}\n",
      "0.4088412241695004 {'criterion': 'entropy', 'max_depth': 3, 'max_features': 2}\n",
      "0.40831807481035837 {'criterion': 'entropy', 'max_depth': 3, 'max_features': 4}\n",
      "0.46952654982997644 {'criterion': 'entropy', 'max_depth': 3, 'max_features': 6}\n",
      "0.5006539366989275 {'criterion': 'entropy', 'max_depth': 3, 'max_features': 8}\n",
      "0.5056238556107768 {'criterion': 'entropy', 'max_depth': 3, 'max_features': 10}\n",
      "0.508239602406487 {'criterion': 'entropy', 'max_depth': 3, 'max_features': 12}\n",
      "0.7138373005493068 {'criterion': 'entropy', 'max_depth': 10, 'max_features': 2}\n",
      "0.8004185194873136 {'criterion': 'entropy', 'max_depth': 10, 'max_features': 4}\n",
      "0.8401778707821083 {'criterion': 'entropy', 'max_depth': 10, 'max_features': 6}\n",
      "0.8257912634057023 {'criterion': 'entropy', 'max_depth': 10, 'max_features': 8}\n",
      "0.8456709390530996 {'criterion': 'entropy', 'max_depth': 10, 'max_features': 10}\n",
      "0.8618885691865027 {'criterion': 'entropy', 'max_depth': 10, 'max_features': 12}\n",
      "0.7711221553753597 {'criterion': 'entropy', 'max_depth': 30, 'max_features': 2}\n",
      "0.8121893800680094 {'criterion': 'entropy', 'max_depth': 30, 'max_features': 4}\n",
      "0.8443630656552445 {'criterion': 'entropy', 'max_depth': 30, 'max_features': 6}\n",
      "0.8362542505885431 {'criterion': 'entropy', 'max_depth': 30, 'max_features': 8}\n",
      "0.8592728223907926 {'criterion': 'entropy', 'max_depth': 30, 'max_features': 10}\n",
      "0.8535181794402302 {'criterion': 'entropy', 'max_depth': 30, 'max_features': 12}\n",
      "0.7386868951085535 {'criterion': 'entropy', 'max_depth': 40, 'max_features': 2}\n",
      "0.8197750457755689 {'criterion': 'entropy', 'max_depth': 40, 'max_features': 4}\n",
      "0.835992675908972 {'criterion': 'entropy', 'max_depth': 40, 'max_features': 6}\n",
      "0.851425582003662 {'criterion': 'entropy', 'max_depth': 40, 'max_features': 8}\n",
      "0.8438399162961026 {'criterion': 'entropy', 'max_depth': 40, 'max_features': 10}\n",
      "0.8629348679047868 {'criterion': 'entropy', 'max_depth': 40, 'max_features': 12}\n",
      "0.7580434213968088 {'criterion': 'entropy', 'max_depth': 50, 'max_features': 2}\n",
      "0.8030342662830238 {'criterion': 'entropy', 'max_depth': 50, 'max_features': 4}\n",
      "0.834946377190688 {'criterion': 'entropy', 'max_depth': 50, 'max_features': 6}\n",
      "0.8527334554015171 {'criterion': 'entropy', 'max_depth': 50, 'max_features': 8}\n",
      "0.8527334554015171 {'criterion': 'entropy', 'max_depth': 50, 'max_features': 10}\n",
      "0.8616269945069317 {'criterion': 'entropy', 'max_depth': 50, 'max_features': 12}\n"
     ]
    }
   ],
   "source": [
    "cvres = grid_search.cv_results_\n",
    "for mean_score, params in zip(cvres[\"mean_test_score\"], cvres[\"params\"]):\n",
    "    print(mean_score, params)"
   ]
  },
  {
   "cell_type": "code",
   "execution_count": 13,
   "metadata": {},
   "outputs": [
    {
     "data": {
      "text/plain": [
       "{'criterion': 'entropy', 'max_depth': 40, 'max_features': 12}"
      ]
     },
     "execution_count": 13,
     "metadata": {},
     "output_type": "execute_result"
    }
   ],
   "source": [
    "grid_search.best_params_"
   ]
  },
  {
   "cell_type": "code",
   "execution_count": 20,
   "metadata": {},
   "outputs": [
    {
     "data": {
      "text/plain": [
       "DecisionTreeClassifier(class_weight=None, criterion='entropy', max_depth=40,\n",
       "            max_features=12, max_leaf_nodes=None, min_impurity_split=1e-07,\n",
       "            min_samples_leaf=1, min_samples_split=2,\n",
       "            min_weight_fraction_leaf=0.0, presort=False, random_state=None,\n",
       "            splitter='best')"
      ]
     },
     "execution_count": 20,
     "metadata": {},
     "output_type": "execute_result"
    }
   ],
   "source": [
    "grid_search.best_estimator_"
   ]
  },
  {
   "cell_type": "code",
   "execution_count": 21,
   "metadata": {},
   "outputs": [
    {
     "data": {
      "text/plain": [
       "DecisionTreeClassifier(class_weight=None, criterion='entropy', max_depth=40,\n",
       "            max_features=12, max_leaf_nodes=None, min_impurity_split=1e-07,\n",
       "            min_samples_leaf=1, min_samples_split=2,\n",
       "            min_weight_fraction_leaf=0.0, presort=False, random_state=None,\n",
       "            splitter='best')"
      ]
     },
     "execution_count": 21,
     "metadata": {},
     "output_type": "execute_result"
    }
   ],
   "source": [
    "clf_gini_3 = DecisionTreeClassifier(class_weight=None, criterion='entropy', max_depth=40,\n",
    "            max_features=12, max_leaf_nodes=None, min_impurity_split=1e-07,\n",
    "            min_samples_leaf=1, min_samples_split=2,\n",
    "            min_weight_fraction_leaf=0.0, presort=False, random_state=None,\n",
    "            splitter='best')\n",
    "clf_gini_3.fit(X_train, y_train)"
   ]
  },
  {
   "cell_type": "code",
   "execution_count": 22,
   "metadata": {},
   "outputs": [],
   "source": [
    "y_pred_test_3 = clf_gini_3.predict(X_test)\n",
    "y_pred_train_3 = clf_gini_3.predict(X_train)"
   ]
  },
  {
   "cell_type": "code",
   "execution_count": 23,
   "metadata": {},
   "outputs": [
    {
     "name": "stdout",
     "output_type": "stream",
     "text": [
      "Test accuracy is  83.47245409015025\n",
      "Train accuracy is  100.0\n"
     ]
    }
   ],
   "source": [
    "print (\"Test accuracy is \", accuracy_score(y_test,y_pred_test_3)*100)\n",
    "print (\"Train accuracy is \", accuracy_score(y_train,y_pred_train_3)*100)"
   ]
  },
  {
   "cell_type": "code",
   "execution_count": 41,
   "metadata": {},
   "outputs": [],
   "source": [
    "# Zaman ve BF ekle?"
   ]
  },
  {
   "cell_type": "code",
   "execution_count": null,
   "metadata": {},
   "outputs": [],
   "source": [
    "'''Buradan aşağısı gereksiz gibi.\n",
    "'''\n",
    "from sklearn.model_selection import cross_val_score\n",
    "scores = cross_val_score(clf_gini, X_train, y_train,\n",
    "scoring=None, cv=10)\n",
    "rmse_scores = np.sqrt(-scores)"
   ]
  },
  {
   "cell_type": "code",
   "execution_count": null,
   "metadata": {},
   "outputs": [],
   "source": [
    "print(\"Mean:\", scores.mean())"
   ]
  },
  {
   "cell_type": "code",
   "execution_count": null,
   "metadata": {},
   "outputs": [],
   "source": [
    "y_pred = clf_gini.predict(X_test)\n",
    "y_pred_gini_tr = clf_gini.predict(X_train)"
   ]
  },
  {
   "cell_type": "raw",
   "metadata": {},
   "source": [
    "clf_entropy = DecisionTreeClassifier(criterion = \"entropy\", random_state = 100,\n",
    " max_depth=3, min_samples_leaf=5)\n",
    "clf_entropy.fit(X_train, y_train)"
   ]
  },
  {
   "cell_type": "code",
   "execution_count": null,
   "metadata": {},
   "outputs": [],
   "source": [
    "y_pred_en = clf_entropy.predict(X_test)\n",
    "y_pred_en_tr = clf_entropy.predict(X_train)"
   ]
  },
  {
   "cell_type": "code",
   "execution_count": null,
   "metadata": {},
   "outputs": [],
   "source": [
    "clf_randomforest = RandomForestClassifier(criterion = \"entropy\", random_state = 100,\n",
    " max_depth=3, min_samples_leaf=5)\n",
    "clf_randomforest.fit(X_train, y_train)"
   ]
  },
  {
   "cell_type": "code",
   "execution_count": null,
   "metadata": {},
   "outputs": [],
   "source": [
    "y_pred_rf = clf_randomforest.predict(X_test)\n",
    "y_pred_rf_tr = clf_randomforest.predict(X_train)"
   ]
  },
  {
   "cell_type": "code",
   "execution_count": null,
   "metadata": {},
   "outputs": [],
   "source": [
    "print (\"Accuracy is \", accuracy_score(y_test,y_pred)*100)"
   ]
  },
  {
   "cell_type": "code",
   "execution_count": null,
   "metadata": {},
   "outputs": [],
   "source": [
    "print (\"Accuracy is \", accuracy_score(y_train,y_pred_gini_tr)*100)"
   ]
  },
  {
   "cell_type": "code",
   "execution_count": null,
   "metadata": {},
   "outputs": [],
   "source": [
    "print (\"Accuracy is \", accuracy_score(y_test,y_pred_en)*100)"
   ]
  },
  {
   "cell_type": "code",
   "execution_count": null,
   "metadata": {},
   "outputs": [],
   "source": [
    "print (\"Accuracy is \", accuracy_score(y_train,y_pred_en_tr)*100)"
   ]
  },
  {
   "cell_type": "code",
   "execution_count": null,
   "metadata": {},
   "outputs": [],
   "source": [
    "print (\"Accuracy is \", accuracy_score(y_test,y_pred_rf)*100)"
   ]
  },
  {
   "cell_type": "code",
   "execution_count": null,
   "metadata": {},
   "outputs": [],
   "source": [
    "print (\"Accuracy is \", accuracy_score(y_train,y_pred_rf_tr)*100)"
   ]
  },
  {
   "cell_type": "code",
   "execution_count": null,
   "metadata": {},
   "outputs": [],
   "source": [
    "from sklearn.model_selection import GridSearchCV\n",
    "param_grid = [\n",
    "{'n_estimators': [3, 10, 30], 'max_features': [2, 4, 6, 8]},\n",
    "{'bootstrap': [False], 'n_estimators': [3, 10], 'max_features': [2, 3, 4]},\n",
    "]\n",
    "forest_cf = RandomForestClassifier()\n",
    "grid_search = GridSearchCV(forest_cf, param_grid, cv=5,\n",
    "scoring='accuracy')\n",
    "grid_search.fit(X_train, y_train)"
   ]
  },
  {
   "cell_type": "code",
   "execution_count": null,
   "metadata": {},
   "outputs": [],
   "source": [
    "grid_search.best_params_"
   ]
  },
  {
   "cell_type": "code",
   "execution_count": null,
   "metadata": {},
   "outputs": [],
   "source": [
    "grid_search.best_estimator_"
   ]
  },
  {
   "cell_type": "code",
   "execution_count": null,
   "metadata": {},
   "outputs": [],
   "source": [
    "cvres"
   ]
  },
  {
   "cell_type": "code",
   "execution_count": null,
   "metadata": {},
   "outputs": [],
   "source": [
    "cvres = grid_search.cv_results_\n",
    "for mean_score, params in zip(cvres[\"mean_test_score\"], cvres[\"params\"]):\n",
    "    print(mean_score, params)"
   ]
  },
  {
   "cell_type": "code",
   "execution_count": null,
   "metadata": {},
   "outputs": [],
   "source": [
    "clf_randomforest2 = RandomForestClassifier(bootstrap=True, class_weight=None, criterion='gini',\n",
    "            max_depth=None, max_features=6, max_leaf_nodes=None,\n",
    "            min_impurity_split=1e-07, min_samples_leaf=1,\n",
    "            min_samples_split=2, min_weight_fraction_leaf=0.0,\n",
    "            n_estimators=30, n_jobs=1, oob_score=False, random_state=None,\n",
    "            verbose=0, warm_start=False)"
   ]
  },
  {
   "cell_type": "code",
   "execution_count": null,
   "metadata": {},
   "outputs": [],
   "source": [
    "clf_randomforest2.fit(X_train, y_train)"
   ]
  },
  {
   "cell_type": "code",
   "execution_count": null,
   "metadata": {},
   "outputs": [],
   "source": [
    "y_pred_rf2 = clf_randomforest2.predict(X_test)\n",
    "y_pred_rf_tr2 = clf_randomforest2.predict(X_train)"
   ]
  },
  {
   "cell_type": "code",
   "execution_count": null,
   "metadata": {},
   "outputs": [],
   "source": [
    "print (\"Accuracy is \", accuracy_score(y_test,y_pred_rf2)*100)"
   ]
  },
  {
   "cell_type": "code",
   "execution_count": null,
   "metadata": {},
   "outputs": [],
   "source": [
    "y_test"
   ]
  },
  {
   "cell_type": "code",
   "execution_count": null,
   "metadata": {},
   "outputs": [],
   "source": [
    "y_pred_rf2"
   ]
  }
 ],
 "metadata": {
  "kernelspec": {
   "display_name": "Python 3",
   "language": "python",
   "name": "python3"
  },
  "language_info": {
   "codemirror_mode": {
    "name": "ipython",
    "version": 3
   },
   "file_extension": ".py",
   "mimetype": "text/x-python",
   "name": "python",
   "nbconvert_exporter": "python",
   "pygments_lexer": "ipython3",
   "version": "3.6.5"
  }
 },
 "nbformat": 4,
 "nbformat_minor": 2
}
