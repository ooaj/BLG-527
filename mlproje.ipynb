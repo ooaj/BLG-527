{
 "cells": [
  {
   "cell_type": "code",
   "execution_count": 32,
   "metadata": {},
   "outputs": [],
   "source": [
    "import numpy as np\n",
    "import pandas as pd\n",
    "import json\n",
    "import csv\n",
    "import matplotlib.pyplot as plt\n",
    "import os\n",
    "from pandas.io.json import json_normalize\n",
    "\n"
   ]
  },
  {
   "cell_type": "code",
   "execution_count": 33,
   "metadata": {},
   "outputs": [],
   "source": [
    "train = pd.read_json('train.json')\n",
    "test = pd.read_json('test.json')\n",
    "val = pd.read_json('validation.json')"
   ]
  },
  {
   "cell_type": "code",
   "execution_count": 34,
   "metadata": {},
   "outputs": [],
   "source": [
    "# Divide annotation into parts label_id & image_id for training test\n",
    "train['image_id'] = train.annotations.map(lambda x: x['image_id']) \n",
    "train['label_id'] = train.annotations.map(lambda x: x['label_id'])\n",
    "train['url'] = train.images.map(lambda x: x['url'][0])\n",
    "train.drop(columns=['annotations', 'images'], inplace=True)\n"
   ]
  },
  {
   "cell_type": "code",
   "execution_count": 35,
   "metadata": {},
   "outputs": [
    {
     "data": {
      "text/plain": [
       "image_id    0\n",
       "label_id    0\n",
       "url         0\n",
       "dtype: int64"
      ]
     },
     "execution_count": 35,
     "metadata": {},
     "output_type": "execute_result"
    }
   ],
   "source": [
    "train.isnull().sum() # Check for missing values in the training data\n"
   ]
  },
  {
   "cell_type": "code",
   "execution_count": 38,
   "metadata": {},
   "outputs": [],
   "source": [
    "# Divide annotation into parts label_id & image_id for validation test\n",
    "val['image_id'] = val.annotations.map(lambda x: x['image_id'])\n",
    "val['label_id'] = val.annotations.map(lambda x: x['label_id'])\n",
    "val['url'] = val.images.map(lambda x: x['url'][0])\n",
    "val.drop(columns=['annotations', 'images'], inplace=True)"
   ]
  },
  {
   "cell_type": "code",
   "execution_count": 39,
   "metadata": {},
   "outputs": [
    {
     "data": {
      "text/plain": [
       "image_id    0\n",
       "label_id    0\n",
       "url         0\n",
       "dtype: int64"
      ]
     },
     "execution_count": 39,
     "metadata": {},
     "output_type": "execute_result"
    }
   ],
   "source": [
    "val.isnull().sum() # Check for missing values in the validation data"
   ]
  },
  {
   "cell_type": "code",
   "execution_count": 45,
   "metadata": {},
   "outputs": [],
   "source": [
    "test['url'] = test.images.map(lambda x: x['url'][0])\n",
    "test.drop(columns=[ 'images'], inplace=True)"
   ]
  },
  {
   "cell_type": "code",
   "execution_count": 46,
   "metadata": {},
   "outputs": [
    {
     "data": {
      "text/plain": [
       "url    0\n",
       "dtype: int64"
      ]
     },
     "execution_count": 46,
     "metadata": {},
     "output_type": "execute_result"
    }
   ],
   "source": [
    "test.isnull().sum() "
   ]
  },
  {
   "cell_type": "code",
   "execution_count": 47,
   "metadata": {},
   "outputs": [],
   "source": [
    "def display_category(label_id, df, num_disp=8):\n",
    "    samp_df = df[df[\"label_id\"] == label_id].sample(n=num_disp)\n",
    "    urls = samp_df[\"url\"].tolist()\n",
    "    img_style = \"width: 180px; margin: 0px; float: left; border: 1px solid black;\"\n",
    "    images_list = ''.join([f\"<img style='{img_style}' src='{u}' />\" for u in urls])\n",
    "    header_str = \"<h2>Label {:d}</h2>\".format(label_id)\n",
    "    display(HTML(header_str))\n",
    "    display(HTML(images_list))"
   ]
  },
  {
   "cell_type": "code",
   "execution_count": null,
   "metadata": {},
   "outputs": [],
   "source": [
    "for label in sorted(pd.unique(train[\"label_id\"]).ravel().tolist()):\n",
    "    display_category(label, train)"
   ]
  },
  {
   "cell_type": "code",
   "execution_count": null,
   "metadata": {},
   "outputs": [],
   "source": []
  }
 ],
 "metadata": {
  "kernelspec": {
   "display_name": "Python 3",
   "language": "python",
   "name": "python3"
  },
  "language_info": {
   "codemirror_mode": {
    "name": "ipython",
    "version": 3
   },
   "file_extension": ".py",
   "mimetype": "text/x-python",
   "name": "python",
   "nbconvert_exporter": "python",
   "pygments_lexer": "ipython3",
   "version": "3.6.4"
  }
 },
 "nbformat": 4,
 "nbformat_minor": 2
}
